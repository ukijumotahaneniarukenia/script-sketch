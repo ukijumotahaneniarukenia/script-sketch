{
 "cells": [
  {
   "cell_type": "code",
   "execution_count": 1,
   "metadata": {},
   "outputs": [],
   "source": [
    "from more_itertools import *\n",
    "import numpy as np"
   ]
  },
  {
   "cell_type": "code",
   "execution_count": 2,
   "metadata": {},
   "outputs": [
    {
     "name": "stdout",
     "output_type": "stream",
     "text": [
      "Help on function count_cycle in module more_itertools.more:\n",
      "\n",
      "count_cycle(iterable, n=None)\n",
      "    Cycle through the items from *iterable* up to *n* times, yielding\n",
      "    the number of completed cycles along with each item. If *n* is omitted the\n",
      "    process repeats indefinitely.\n",
      "    \n",
      "    >>> list(count_cycle('AB', 3))\n",
      "    [(0, 'A'), (0, 'B'), (1, 'A'), (1, 'B'), (2, 'A'), (2, 'B')]\n",
      "\n"
     ]
    }
   ],
   "source": [
    "help(count_cycle)"
   ]
  },
  {
   "cell_type": "code",
   "execution_count": 3,
   "metadata": {},
   "outputs": [
    {
     "data": {
      "text/plain": [
       "<generator object count_cycle.<locals>.<genexpr> at 0x7f5121d317d0>"
      ]
     },
     "execution_count": 3,
     "metadata": {},
     "output_type": "execute_result"
    }
   ],
   "source": [
    "count_cycle('ABCD', 3)"
   ]
  },
  {
   "cell_type": "code",
   "execution_count": 5,
   "metadata": {},
   "outputs": [
    {
     "data": {
      "text/plain": [
       "[(0, 'A'),\n",
       " (0, 'B'),\n",
       " (0, 'C'),\n",
       " (0, 'D'),\n",
       " (1, 'A'),\n",
       " (1, 'B'),\n",
       " (1, 'C'),\n",
       " (1, 'D'),\n",
       " (2, 'A'),\n",
       " (2, 'B'),\n",
       " (2, 'C'),\n",
       " (2, 'D')]"
      ]
     },
     "execution_count": 5,
     "metadata": {},
     "output_type": "execute_result"
    }
   ],
   "source": [
    "list(count_cycle('ABCD', 3))"
   ]
  },
  {
   "cell_type": "code",
   "execution_count": 6,
   "metadata": {},
   "outputs": [
    {
     "data": {
      "text/plain": [
       "['あ', 'ぃ', 'い', 'ぅ', 'う', 'ぇ']"
      ]
     },
     "execution_count": 6,
     "metadata": {},
     "output_type": "execute_result"
    }
   ],
   "source": [
    "[ chr(i) for i in range(12354,12360)]"
   ]
  },
  {
   "cell_type": "code",
   "execution_count": 7,
   "metadata": {},
   "outputs": [],
   "source": [
    "a = [ chr(i) for i in range(12354,12360)]"
   ]
  },
  {
   "cell_type": "code",
   "execution_count": 8,
   "metadata": {},
   "outputs": [
    {
     "data": {
      "text/plain": [
       "['あ', 'ぃ', 'い', 'ぅ', 'う', 'ぇ']"
      ]
     },
     "execution_count": 8,
     "metadata": {},
     "output_type": "execute_result"
    }
   ],
   "source": [
    "a"
   ]
  },
  {
   "cell_type": "code",
   "execution_count": 9,
   "metadata": {},
   "outputs": [
    {
     "data": {
      "text/plain": [
       "[(0, 'あ'),\n",
       " (0, 'ぃ'),\n",
       " (0, 'い'),\n",
       " (0, 'ぅ'),\n",
       " (0, 'う'),\n",
       " (0, 'ぇ'),\n",
       " (1, 'あ'),\n",
       " (1, 'ぃ'),\n",
       " (1, 'い'),\n",
       " (1, 'ぅ'),\n",
       " (1, 'う'),\n",
       " (1, 'ぇ'),\n",
       " (2, 'あ'),\n",
       " (2, 'ぃ'),\n",
       " (2, 'い'),\n",
       " (2, 'ぅ'),\n",
       " (2, 'う'),\n",
       " (2, 'ぇ')]"
      ]
     },
     "execution_count": 9,
     "metadata": {},
     "output_type": "execute_result"
    }
   ],
   "source": [
    "list(count_cycle(a, 3))"
   ]
  },
  {
   "cell_type": "code",
   "execution_count": null,
   "metadata": {},
   "outputs": [],
   "source": []
  }
 ],
 "metadata": {
  "kernelspec": {
   "display_name": "Python 3",
   "language": "python",
   "name": "python3"
  },
  "language_info": {
   "codemirror_mode": {
    "name": "ipython",
    "version": 3
   },
   "file_extension": ".py",
   "mimetype": "text/x-python",
   "name": "python",
   "nbconvert_exporter": "python",
   "pygments_lexer": "ipython3",
   "version": "3.7.4"
  }
 },
 "nbformat": 4,
 "nbformat_minor": 4
}
