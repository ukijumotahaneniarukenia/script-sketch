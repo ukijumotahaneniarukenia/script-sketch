{
 "cells": [
  {
   "cell_type": "code",
   "execution_count": 8,
   "metadata": {},
   "outputs": [],
   "source": [
    "a=dict([ (i,chr(i)) for i in range(12390,12398)])"
   ]
  },
  {
   "cell_type": "code",
   "execution_count": 9,
   "metadata": {},
   "outputs": [
    {
     "data": {
      "text/plain": [
       "{12390: 'て',\n",
       " 12391: 'で',\n",
       " 12392: 'と',\n",
       " 12393: 'ど',\n",
       " 12394: 'な',\n",
       " 12395: 'に',\n",
       " 12396: 'ぬ',\n",
       " 12397: 'ね'}"
      ]
     },
     "execution_count": 9,
     "metadata": {},
     "output_type": "execute_result"
    }
   ],
   "source": [
    "a"
   ]
  },
  {
   "cell_type": "code",
   "execution_count": 11,
   "metadata": {},
   "outputs": [],
   "source": [
    "b=dict([ (i,chr(i)) for i in range(12832,12841)])"
   ]
  },
  {
   "cell_type": "code",
   "execution_count": 12,
   "metadata": {},
   "outputs": [
    {
     "data": {
      "text/plain": [
       "{12832: '㈠',\n",
       " 12833: '㈡',\n",
       " 12834: '㈢',\n",
       " 12835: '㈣',\n",
       " 12836: '㈤',\n",
       " 12837: '㈥',\n",
       " 12838: '㈦',\n",
       " 12839: '㈧',\n",
       " 12840: '㈨'}"
      ]
     },
     "execution_count": 12,
     "metadata": {},
     "output_type": "execute_result"
    }
   ],
   "source": [
    "b"
   ]
  },
  {
   "cell_type": "code",
   "execution_count": 13,
   "metadata": {},
   "outputs": [],
   "source": [
    "c=dict([ (i,chr(i)) for i in range(12354,12364)])"
   ]
  },
  {
   "cell_type": "code",
   "execution_count": 14,
   "metadata": {},
   "outputs": [
    {
     "data": {
      "text/plain": [
       "{12354: 'あ',\n",
       " 12355: 'ぃ',\n",
       " 12356: 'い',\n",
       " 12357: 'ぅ',\n",
       " 12358: 'う',\n",
       " 12359: 'ぇ',\n",
       " 12360: 'え',\n",
       " 12361: 'ぉ',\n",
       " 12362: 'お',\n",
       " 12363: 'か'}"
      ]
     },
     "execution_count": 14,
     "metadata": {},
     "output_type": "execute_result"
    }
   ],
   "source": [
    "c"
   ]
  },
  {
   "cell_type": "code",
   "execution_count": 16,
   "metadata": {},
   "outputs": [
    {
     "data": {
      "text/plain": [
       "{12390: 'て',\n",
       " 12391: 'で',\n",
       " 12392: 'と',\n",
       " 12393: 'ど',\n",
       " 12394: 'な',\n",
       " 12395: 'に',\n",
       " 12396: 'ぬ',\n",
       " 12397: 'ね'}"
      ]
     },
     "execution_count": 16,
     "metadata": {},
     "output_type": "execute_result"
    }
   ],
   "source": [
    "{**a}"
   ]
  },
  {
   "cell_type": "code",
   "execution_count": 18,
   "metadata": {},
   "outputs": [
    {
     "data": {
      "text/plain": [
       "{12390: 'て',\n",
       " 12391: 'で',\n",
       " 12392: 'と',\n",
       " 12393: 'ど',\n",
       " 12394: 'な',\n",
       " 12395: 'に',\n",
       " 12396: 'ぬ',\n",
       " 12397: 'ね',\n",
       " 12832: '㈠',\n",
       " 12833: '㈡',\n",
       " 12834: '㈢',\n",
       " 12835: '㈣',\n",
       " 12836: '㈤',\n",
       " 12837: '㈥',\n",
       " 12838: '㈦',\n",
       " 12839: '㈧',\n",
       " 12840: '㈨'}"
      ]
     },
     "execution_count": 18,
     "metadata": {},
     "output_type": "execute_result"
    }
   ],
   "source": [
    "{**a,**b}"
   ]
  },
  {
   "cell_type": "code",
   "execution_count": 19,
   "metadata": {},
   "outputs": [
    {
     "data": {
      "text/plain": [
       "{12390: 'て',\n",
       " 12391: 'で',\n",
       " 12392: 'と',\n",
       " 12393: 'ど',\n",
       " 12394: 'な',\n",
       " 12395: 'に',\n",
       " 12396: 'ぬ',\n",
       " 12397: 'ね',\n",
       " 12832: '㈠',\n",
       " 12833: '㈡',\n",
       " 12834: '㈢',\n",
       " 12835: '㈣',\n",
       " 12836: '㈤',\n",
       " 12837: '㈥',\n",
       " 12838: '㈦',\n",
       " 12839: '㈧',\n",
       " 12840: '㈨',\n",
       " 12354: 'あ',\n",
       " 12355: 'ぃ',\n",
       " 12356: 'い',\n",
       " 12357: 'ぅ',\n",
       " 12358: 'う',\n",
       " 12359: 'ぇ',\n",
       " 12360: 'え',\n",
       " 12361: 'ぉ',\n",
       " 12362: 'お',\n",
       " 12363: 'か'}"
      ]
     },
     "execution_count": 19,
     "metadata": {},
     "output_type": "execute_result"
    }
   ],
   "source": [
    "{**a,**b,**c}"
   ]
  },
  {
   "cell_type": "code",
   "execution_count": null,
   "metadata": {},
   "outputs": [],
   "source": []
  }
 ],
 "metadata": {
  "kernelspec": {
   "display_name": "Python 3",
   "language": "python",
   "name": "python3"
  },
  "language_info": {
   "codemirror_mode": {
    "name": "ipython",
    "version": 3
   },
   "file_extension": ".py",
   "mimetype": "text/x-python",
   "name": "python",
   "nbconvert_exporter": "python",
   "pygments_lexer": "ipython3",
   "version": "3.7.4"
  }
 },
 "nbformat": 4,
 "nbformat_minor": 4
}
