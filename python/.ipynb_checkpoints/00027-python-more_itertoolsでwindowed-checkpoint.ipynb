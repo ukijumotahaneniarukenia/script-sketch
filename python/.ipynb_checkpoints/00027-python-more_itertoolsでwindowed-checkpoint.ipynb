{
 "cells": [
  {
   "cell_type": "code",
   "execution_count": 16,
   "metadata": {},
   "outputs": [],
   "source": [
    "from more_itertools import *\n",
    "import numpy as np"
   ]
  },
  {
   "cell_type": "code",
   "execution_count": 3,
   "metadata": {},
   "outputs": [
    {
     "name": "stdout",
     "output_type": "stream",
     "text": [
      "Help on function windowed in module more_itertools.more:\n",
      "\n",
      "windowed(seq, n, fillvalue=None, step=1)\n",
      "    Return a sliding window of width *n* over the given iterable.\n",
      "    \n",
      "        >>> all_windows = windowed([1, 2, 3, 4, 5], 3)\n",
      "        >>> list(all_windows)\n",
      "        [(1, 2, 3), (2, 3, 4), (3, 4, 5)]\n",
      "    \n",
      "    When the window is larger than the iterable, *fillvalue* is used in place\n",
      "    of missing values:\n",
      "    \n",
      "        >>> list(windowed([1, 2, 3], 4))\n",
      "        [(1, 2, 3, None)]\n",
      "    \n",
      "    Each window will advance in increments of *step*:\n",
      "    \n",
      "        >>> list(windowed([1, 2, 3, 4, 5, 6], 3, fillvalue='!', step=2))\n",
      "        [(1, 2, 3), (3, 4, 5), (5, 6, '!')]\n",
      "    \n",
      "    To slide into the iterable's items, use :func:`chain` to add filler items\n",
      "    to the left:\n",
      "    \n",
      "        >>> iterable = [1, 2, 3, 4]\n",
      "        >>> n = 3\n",
      "        >>> padding = [None] * (n - 1)\n",
      "        >>> list(windowed(chain(padding, iterable), 3))\n",
      "        [(None, None, 1), (None, 1, 2), (1, 2, 3), (2, 3, 4)]\n",
      "\n"
     ]
    }
   ],
   "source": [
    "help(windowed)"
   ]
  },
  {
   "cell_type": "code",
   "execution_count": 7,
   "metadata": {},
   "outputs": [],
   "source": [
    "a = [ chr(i) for i in range(12354,12365)]"
   ]
  },
  {
   "cell_type": "code",
   "execution_count": 9,
   "metadata": {},
   "outputs": [
    {
     "data": {
      "text/plain": [
       "list"
      ]
     },
     "execution_count": 9,
     "metadata": {},
     "output_type": "execute_result"
    }
   ],
   "source": [
    "type(a)"
   ]
  },
  {
   "cell_type": "code",
   "execution_count": 10,
   "metadata": {},
   "outputs": [
    {
     "data": {
      "text/plain": [
       "['あ', 'ぃ', 'い', 'ぅ', 'う', 'ぇ', 'え', 'ぉ', 'お', 'か', 'が']"
      ]
     },
     "execution_count": 10,
     "metadata": {},
     "output_type": "execute_result"
    }
   ],
   "source": [
    "a"
   ]
  },
  {
   "cell_type": "code",
   "execution_count": 12,
   "metadata": {},
   "outputs": [
    {
     "data": {
      "text/plain": [
       "[('あ', 'ぃ', 'い'),\n",
       " ('ぃ', 'い', 'ぅ'),\n",
       " ('い', 'ぅ', 'う'),\n",
       " ('ぅ', 'う', 'ぇ'),\n",
       " ('う', 'ぇ', 'え'),\n",
       " ('ぇ', 'え', 'ぉ'),\n",
       " ('え', 'ぉ', 'お'),\n",
       " ('ぉ', 'お', 'か'),\n",
       " ('お', 'か', 'が')]"
      ]
     },
     "execution_count": 12,
     "metadata": {},
     "output_type": "execute_result"
    }
   ],
   "source": [
    "list(windowed(a,3))"
   ]
  },
  {
   "cell_type": "code",
   "execution_count": 14,
   "metadata": {},
   "outputs": [
    {
     "data": {
      "text/plain": [
       "[('あ', 'ぃ', 'い', 'ぅ', 'う', 'ぇ'),\n",
       " ('ぃ', 'い', 'ぅ', 'う', 'ぇ', 'え'),\n",
       " ('い', 'ぅ', 'う', 'ぇ', 'え', 'ぉ'),\n",
       " ('ぅ', 'う', 'ぇ', 'え', 'ぉ', 'お'),\n",
       " ('う', 'ぇ', 'え', 'ぉ', 'お', 'か'),\n",
       " ('ぇ', 'え', 'ぉ', 'お', 'か', 'が')]"
      ]
     },
     "execution_count": 14,
     "metadata": {},
     "output_type": "execute_result"
    }
   ],
   "source": [
    "list(windowed(a,6))"
   ]
  },
  {
   "cell_type": "code",
   "execution_count": 17,
   "metadata": {},
   "outputs": [],
   "source": [
    "b = np.array([ chr(i) for i in range(12354,12360)],dtype=\"object\")"
   ]
  },
  {
   "cell_type": "code",
   "execution_count": 18,
   "metadata": {},
   "outputs": [
    {
     "data": {
      "text/plain": [
       "numpy.ndarray"
      ]
     },
     "execution_count": 18,
     "metadata": {},
     "output_type": "execute_result"
    }
   ],
   "source": [
    "type(b)"
   ]
  },
  {
   "cell_type": "code",
   "execution_count": 19,
   "metadata": {},
   "outputs": [
    {
     "data": {
      "text/plain": [
       "array(['あ', 'ぃ', 'い', 'ぅ', 'う', 'ぇ'], dtype=object)"
      ]
     },
     "execution_count": 19,
     "metadata": {},
     "output_type": "execute_result"
    }
   ],
   "source": [
    "b"
   ]
  },
  {
   "cell_type": "code",
   "execution_count": 20,
   "metadata": {},
   "outputs": [
    {
     "data": {
      "text/plain": [
       "[('あ', 'ぃ', 'い'), ('ぃ', 'い', 'ぅ'), ('い', 'ぅ', 'う'), ('ぅ', 'う', 'ぇ')]"
      ]
     },
     "execution_count": 20,
     "metadata": {},
     "output_type": "execute_result"
    }
   ],
   "source": [
    "list(windowed(b,3))"
   ]
  },
  {
   "cell_type": "code",
   "execution_count": null,
   "metadata": {},
   "outputs": [],
   "source": []
  }
 ],
 "metadata": {
  "kernelspec": {
   "display_name": "Python 3",
   "language": "python",
   "name": "python3"
  },
  "language_info": {
   "codemirror_mode": {
    "name": "ipython",
    "version": 3
   },
   "file_extension": ".py",
   "mimetype": "text/x-python",
   "name": "python",
   "nbconvert_exporter": "python",
   "pygments_lexer": "ipython3",
   "version": "3.7.4"
  }
 },
 "nbformat": 4,
 "nbformat_minor": 4
}
