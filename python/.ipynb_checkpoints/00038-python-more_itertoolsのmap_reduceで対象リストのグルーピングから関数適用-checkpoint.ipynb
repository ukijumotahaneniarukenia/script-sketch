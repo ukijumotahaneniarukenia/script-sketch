{
 "cells": [
  {
   "cell_type": "code",
   "execution_count": 1,
   "metadata": {},
   "outputs": [],
   "source": [
    "from more_itertools import *\n",
    "import numpy as np"
   ]
  },
  {
   "cell_type": "code",
   "execution_count": 2,
   "metadata": {},
   "outputs": [
    {
     "name": "stdout",
     "output_type": "stream",
     "text": [
      "Help on function map_reduce in module more_itertools.more:\n",
      "\n",
      "map_reduce(iterable, keyfunc, valuefunc=None, reducefunc=None)\n",
      "    Return a dictionary that maps the items in *iterable* to categories\n",
      "    defined by *keyfunc*, transforms them with *valuefunc*, and\n",
      "    then summarizes them by category with *reducefunc*.\n",
      "    \n",
      "    *valuefunc* defaults to the identity function if it is unspecified.\n",
      "    If *reducefunc* is unspecified, no summarization takes place:\n",
      "    \n",
      "        >>> keyfunc = lambda x: x.upper()\n",
      "        >>> result = map_reduce('abbccc', keyfunc)\n",
      "        >>> sorted(result.items())\n",
      "        [('A', ['a']), ('B', ['b', 'b']), ('C', ['c', 'c', 'c'])]\n",
      "    \n",
      "    Specifying *valuefunc* transforms the categorized items:\n",
      "    \n",
      "        >>> keyfunc = lambda x: x.upper()\n",
      "        >>> valuefunc = lambda x: 1\n",
      "        >>> result = map_reduce('abbccc', keyfunc, valuefunc)\n",
      "        >>> sorted(result.items())\n",
      "        [('A', [1]), ('B', [1, 1]), ('C', [1, 1, 1])]\n",
      "    \n",
      "    Specifying *reducefunc* summarizes the categorized items:\n",
      "    \n",
      "        >>> keyfunc = lambda x: x.upper()\n",
      "        >>> valuefunc = lambda x: 1\n",
      "        >>> reducefunc = sum\n",
      "        >>> result = map_reduce('abbccc', keyfunc, valuefunc, reducefunc)\n",
      "        >>> sorted(result.items())\n",
      "        [('A', 1), ('B', 2), ('C', 3)]\n",
      "    \n",
      "    You may want to filter the input iterable before applying the map/reduce\n",
      "    procedure:\n",
      "    \n",
      "        >>> all_items = range(30)\n",
      "        >>> items = [x for x in all_items if 10 <= x <= 20]  # Filter\n",
      "        >>> keyfunc = lambda x: x % 2  # Evens map to 0; odds to 1\n",
      "        >>> categories = map_reduce(items, keyfunc=keyfunc)\n",
      "        >>> sorted(categories.items())\n",
      "        [(0, [10, 12, 14, 16, 18, 20]), (1, [11, 13, 15, 17, 19])]\n",
      "        >>> summaries = map_reduce(items, keyfunc=keyfunc, reducefunc=sum)\n",
      "        >>> sorted(summaries.items())\n",
      "        [(0, 90), (1, 75)]\n",
      "    \n",
      "    Note that all items in the iterable are gathered into a list before the\n",
      "    summarization step, which may require significant storage.\n",
      "    \n",
      "    The returned object is a :obj:`collections.defaultdict` with the\n",
      "    ``default_factory`` set to ``None``, such that it behaves like a normal\n",
      "    dictionary.\n",
      "\n"
     ]
    }
   ],
   "source": [
    "help(map_reduce)"
   ]
  },
  {
   "cell_type": "code",
   "execution_count": 3,
   "metadata": {},
   "outputs": [],
   "source": [
    "keyfunc = lambda x: x.upper()"
   ]
  },
  {
   "cell_type": "code",
   "execution_count": 4,
   "metadata": {},
   "outputs": [],
   "source": [
    "target='abbccc'"
   ]
  },
  {
   "cell_type": "code",
   "execution_count": 9,
   "metadata": {},
   "outputs": [],
   "source": [
    "result = map_reduce('abbccc', keyfunc)"
   ]
  },
  {
   "cell_type": "code",
   "execution_count": 10,
   "metadata": {},
   "outputs": [
    {
     "data": {
      "text/plain": [
       "defaultdict(None, {'A': ['a'], 'B': ['b', 'b'], 'C': ['c', 'c', 'c']})"
      ]
     },
     "execution_count": 10,
     "metadata": {},
     "output_type": "execute_result"
    }
   ],
   "source": [
    "result"
   ]
  },
  {
   "cell_type": "code",
   "execution_count": 13,
   "metadata": {},
   "outputs": [
    {
     "data": {
      "text/plain": [
       "dict_items([('A', ['a']), ('B', ['b', 'b']), ('C', ['c', 'c', 'c'])])"
      ]
     },
     "execution_count": 13,
     "metadata": {},
     "output_type": "execute_result"
    }
   ],
   "source": [
    "#タプルのリストが返却されてくる\n",
    "result.items()"
   ]
  },
  {
   "cell_type": "code",
   "execution_count": 14,
   "metadata": {},
   "outputs": [
    {
     "data": {
      "text/plain": [
       "{'A': ['a'], 'B': ['b', 'b'], 'C': ['c', 'c', 'c']}"
      ]
     },
     "execution_count": 14,
     "metadata": {},
     "output_type": "execute_result"
    }
   ],
   "source": [
    "#便利\n",
    "dict(result.items())"
   ]
  },
  {
   "cell_type": "code",
   "execution_count": 15,
   "metadata": {},
   "outputs": [],
   "source": [
    "keyfunc = lambda x: x.upper()"
   ]
  },
  {
   "cell_type": "code",
   "execution_count": 16,
   "metadata": {},
   "outputs": [],
   "source": [
    "valuefunc = lambda x: 1"
   ]
  },
  {
   "cell_type": "code",
   "execution_count": 17,
   "metadata": {},
   "outputs": [],
   "source": [
    "result = map_reduce(target, keyfunc, valuefunc)"
   ]
  },
  {
   "cell_type": "code",
   "execution_count": 18,
   "metadata": {},
   "outputs": [
    {
     "data": {
      "text/plain": [
       "defaultdict(None, {'A': [1], 'B': [1, 1], 'C': [1, 1, 1]})"
      ]
     },
     "execution_count": 18,
     "metadata": {},
     "output_type": "execute_result"
    }
   ],
   "source": [
    "result"
   ]
  },
  {
   "cell_type": "code",
   "execution_count": 19,
   "metadata": {},
   "outputs": [
    {
     "data": {
      "text/plain": [
       "dict_items([('A', [1]), ('B', [1, 1]), ('C', [1, 1, 1])])"
      ]
     },
     "execution_count": 19,
     "metadata": {},
     "output_type": "execute_result"
    }
   ],
   "source": [
    "result.items()"
   ]
  },
  {
   "cell_type": "code",
   "execution_count": 20,
   "metadata": {},
   "outputs": [
    {
     "data": {
      "text/plain": [
       "{'A': [1], 'B': [1, 1], 'C': [1, 1, 1]}"
      ]
     },
     "execution_count": 20,
     "metadata": {},
     "output_type": "execute_result"
    }
   ],
   "source": [
    "dict(result.items())"
   ]
  },
  {
   "cell_type": "code",
   "execution_count": 21,
   "metadata": {},
   "outputs": [],
   "source": [
    "keyfunc = lambda x: x.upper()"
   ]
  },
  {
   "cell_type": "code",
   "execution_count": 22,
   "metadata": {},
   "outputs": [],
   "source": [
    "valuefunc = lambda x: 1"
   ]
  },
  {
   "cell_type": "code",
   "execution_count": 23,
   "metadata": {},
   "outputs": [],
   "source": [
    "reducefunc = sum"
   ]
  },
  {
   "cell_type": "code",
   "execution_count": 25,
   "metadata": {},
   "outputs": [],
   "source": [
    "result = map_reduce(target, keyfunc, valuefunc, reducefunc)"
   ]
  },
  {
   "cell_type": "code",
   "execution_count": 26,
   "metadata": {},
   "outputs": [
    {
     "data": {
      "text/plain": [
       "dict_items([('A', 1), ('B', 2), ('C', 3)])"
      ]
     },
     "execution_count": 26,
     "metadata": {},
     "output_type": "execute_result"
    }
   ],
   "source": [
    "result.items()"
   ]
  },
  {
   "cell_type": "code",
   "execution_count": 27,
   "metadata": {},
   "outputs": [
    {
     "data": {
      "text/plain": [
       "{'A': 1, 'B': 2, 'C': 3}"
      ]
     },
     "execution_count": 27,
     "metadata": {},
     "output_type": "execute_result"
    }
   ],
   "source": [
    "dict(result.items())"
   ]
  },
  {
   "cell_type": "code",
   "execution_count": 28,
   "metadata": {},
   "outputs": [],
   "source": [
    "all_items = range(30)"
   ]
  },
  {
   "cell_type": "code",
   "execution_count": 29,
   "metadata": {},
   "outputs": [
    {
     "data": {
      "text/plain": [
       "range(0, 30)"
      ]
     },
     "execution_count": 29,
     "metadata": {},
     "output_type": "execute_result"
    }
   ],
   "source": [
    "all_items"
   ]
  },
  {
   "cell_type": "code",
   "execution_count": 32,
   "metadata": {},
   "outputs": [],
   "source": [
    "#フィルタリング\n",
    "items = [x for x in all_items if 10 <= x <= 20] "
   ]
  },
  {
   "cell_type": "code",
   "execution_count": 31,
   "metadata": {},
   "outputs": [
    {
     "data": {
      "text/plain": [
       "[10, 11, 12, 13, 14, 15, 16, 17, 18, 19, 20]"
      ]
     },
     "execution_count": 31,
     "metadata": {},
     "output_type": "execute_result"
    }
   ],
   "source": [
    "items"
   ]
  },
  {
   "cell_type": "code",
   "execution_count": 39,
   "metadata": {},
   "outputs": [],
   "source": [
    "applyFuncName = lambda x: x % 2"
   ]
  },
  {
   "cell_type": "code",
   "execution_count": 40,
   "metadata": {},
   "outputs": [],
   "source": [
    "#対象リストに適用した関数の戻り値でグルーピング\n",
    "#仮引数を明記した状態で適用する関数名を記載\n",
    "categories = map_reduce(items, keyfunc=applyFuncName)"
   ]
  },
  {
   "cell_type": "code",
   "execution_count": 41,
   "metadata": {},
   "outputs": [
    {
     "data": {
      "text/plain": [
       "defaultdict(None, {0: [10, 12, 14, 16, 18, 20], 1: [11, 13, 15, 17, 19]})"
      ]
     },
     "execution_count": 41,
     "metadata": {},
     "output_type": "execute_result"
    }
   ],
   "source": [
    "categories"
   ]
  },
  {
   "cell_type": "code",
   "execution_count": 42,
   "metadata": {},
   "outputs": [
    {
     "data": {
      "text/plain": [
       "dict_items([(0, [10, 12, 14, 16, 18, 20]), (1, [11, 13, 15, 17, 19])])"
      ]
     },
     "execution_count": 42,
     "metadata": {},
     "output_type": "execute_result"
    }
   ],
   "source": [
    "categories.items()"
   ]
  },
  {
   "cell_type": "code",
   "execution_count": 43,
   "metadata": {},
   "outputs": [],
   "source": [
    "summaries = map_reduce(items, keyfunc=keyfunc, reducefunc=sum)"
   ]
  },
  {
   "cell_type": "code",
   "execution_count": 44,
   "metadata": {},
   "outputs": [
    {
     "data": {
      "text/plain": [
       "defaultdict(None, {0: 90, 1: 75})"
      ]
     },
     "execution_count": 44,
     "metadata": {},
     "output_type": "execute_result"
    }
   ],
   "source": [
    "summaries"
   ]
  },
  {
   "cell_type": "code",
   "execution_count": 45,
   "metadata": {},
   "outputs": [
    {
     "data": {
      "text/plain": [
       "dict_items([(0, 90), (1, 75)])"
      ]
     },
     "execution_count": 45,
     "metadata": {},
     "output_type": "execute_result"
    }
   ],
   "source": [
    "summaries.items()"
   ]
  },
  {
   "cell_type": "code",
   "execution_count": 46,
   "metadata": {},
   "outputs": [
    {
     "data": {
      "text/plain": [
       "{0: 90, 1: 75}"
      ]
     },
     "execution_count": 46,
     "metadata": {},
     "output_type": "execute_result"
    }
   ],
   "source": [
    "dict(summaries.items())"
   ]
  },
  {
   "cell_type": "code",
   "execution_count": 47,
   "metadata": {},
   "outputs": [],
   "source": [
    "target2=[\"あ\",\"あ\",\"あ\",\"い\",\"い\",\"い\",\"う\"]"
   ]
  },
  {
   "cell_type": "code",
   "execution_count": 48,
   "metadata": {},
   "outputs": [],
   "source": [
    "keyfunc = lambda x: x.upper()"
   ]
  },
  {
   "cell_type": "code",
   "execution_count": 49,
   "metadata": {},
   "outputs": [],
   "source": [
    "valuefunc = lambda x: 1"
   ]
  },
  {
   "cell_type": "code",
   "execution_count": 52,
   "metadata": {},
   "outputs": [],
   "source": [
    "result = map_reduce(target2, keyfunc, valuefunc)"
   ]
  },
  {
   "cell_type": "code",
   "execution_count": 53,
   "metadata": {},
   "outputs": [
    {
     "data": {
      "text/plain": [
       "defaultdict(None, {'あ': [1, 1, 1], 'い': [1, 1, 1], 'う': [1]})"
      ]
     },
     "execution_count": 53,
     "metadata": {},
     "output_type": "execute_result"
    }
   ],
   "source": [
    "result"
   ]
  },
  {
   "cell_type": "code",
   "execution_count": 54,
   "metadata": {},
   "outputs": [
    {
     "data": {
      "text/plain": [
       "dict_items([('あ', [1, 1, 1]), ('い', [1, 1, 1]), ('う', [1])])"
      ]
     },
     "execution_count": 54,
     "metadata": {},
     "output_type": "execute_result"
    }
   ],
   "source": [
    "result.items()"
   ]
  },
  {
   "cell_type": "code",
   "execution_count": 55,
   "metadata": {},
   "outputs": [],
   "source": [
    "reducefunc = len"
   ]
  },
  {
   "cell_type": "code",
   "execution_count": 58,
   "metadata": {},
   "outputs": [],
   "source": [
    "result = map_reduce(target2, keyfunc, valuefunc, reducefunc)"
   ]
  },
  {
   "cell_type": "code",
   "execution_count": 59,
   "metadata": {},
   "outputs": [
    {
     "data": {
      "text/plain": [
       "dict_items([('あ', 3), ('い', 3), ('う', 1)])"
      ]
     },
     "execution_count": 59,
     "metadata": {},
     "output_type": "execute_result"
    }
   ],
   "source": [
    "result.items()"
   ]
  },
  {
   "cell_type": "code",
   "execution_count": null,
   "metadata": {},
   "outputs": [],
   "source": []
  }
 ],
 "metadata": {
  "kernelspec": {
   "display_name": "Python 3",
   "language": "python",
   "name": "python3"
  },
  "language_info": {
   "codemirror_mode": {
    "name": "ipython",
    "version": 3
   },
   "file_extension": ".py",
   "mimetype": "text/x-python",
   "name": "python",
   "nbconvert_exporter": "python",
   "pygments_lexer": "ipython3",
   "version": "3.7.4"
  }
 },
 "nbformat": 4,
 "nbformat_minor": 4
}
