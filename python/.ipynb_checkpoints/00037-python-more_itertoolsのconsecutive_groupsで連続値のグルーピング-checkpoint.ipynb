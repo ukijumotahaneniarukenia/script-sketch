{
 "cells": [
  {
   "cell_type": "code",
   "execution_count": 2,
   "metadata": {},
   "outputs": [],
   "source": [
    "from more_itertools import *\n",
    "import numpy as np"
   ]
  },
  {
   "cell_type": "code",
   "execution_count": 3,
   "metadata": {},
   "outputs": [
    {
     "name": "stdout",
     "output_type": "stream",
     "text": [
      "Help on function consecutive_groups in module more_itertools.more:\n",
      "\n",
      "consecutive_groups(iterable, ordering=<function <lambda> at 0x7f95e8ca0dd0>)\n",
      "    Yield groups of consecutive items using :func:`itertools.groupby`.\n",
      "    The *ordering* function determines whether two items are adjacent by\n",
      "    returning their position.\n",
      "    \n",
      "    By default, the ordering function is the identity function. This is\n",
      "    suitable for finding runs of numbers:\n",
      "    \n",
      "        >>> iterable = [1, 10, 11, 12, 20, 30, 31, 32, 33, 40]\n",
      "        >>> for group in consecutive_groups(iterable):\n",
      "        ...     print(list(group))\n",
      "        [1]\n",
      "        [10, 11, 12]\n",
      "        [20]\n",
      "        [30, 31, 32, 33]\n",
      "        [40]\n",
      "    \n",
      "    For finding runs of adjacent letters, try using the :meth:`index` method\n",
      "    of a string of letters:\n",
      "    \n",
      "        >>> from string import ascii_lowercase\n",
      "        >>> iterable = 'abcdfgilmnop'\n",
      "        >>> ordering = ascii_lowercase.index\n",
      "        >>> for group in consecutive_groups(iterable, ordering):\n",
      "        ...     print(list(group))\n",
      "        ['a', 'b', 'c', 'd']\n",
      "        ['f', 'g']\n",
      "        ['i']\n",
      "        ['l', 'm', 'n', 'o', 'p']\n",
      "    \n",
      "    Each group of consecutive items is an iterator that shares it source with\n",
      "    *iterable*. When an an output group is advanced, the previous group is\n",
      "    no longer available unless its elements are copied (e.g., into a ``list``).\n",
      "    \n",
      "        >>> iterable = [1, 2, 11, 12, 21, 22]\n",
      "        >>> saved_groups = []\n",
      "        >>> for group in consecutive_groups(iterable):\n",
      "        ...     saved_groups.append(list(group))  # Copy group elements\n",
      "        >>> saved_groups\n",
      "        [[1, 2], [11, 12], [21, 22]]\n",
      "\n"
     ]
    }
   ],
   "source": [
    "help(consecutive_groups)"
   ]
  },
  {
   "cell_type": "code",
   "execution_count": 87,
   "metadata": {},
   "outputs": [],
   "source": [
    "n= [1, 10, 11, 12, 20, 30, 31, 32, 33, 40]"
   ]
  },
  {
   "cell_type": "code",
   "execution_count": 88,
   "metadata": {},
   "outputs": [
    {
     "data": {
      "text/plain": [
       "[1, 10, 11, 12, 20, 30, 31, 32, 33, 40]"
      ]
     },
     "execution_count": 88,
     "metadata": {},
     "output_type": "execute_result"
    }
   ],
   "source": [
    "n"
   ]
  },
  {
   "cell_type": "code",
   "execution_count": 89,
   "metadata": {},
   "outputs": [
    {
     "data": {
      "text/plain": [
       "[[1], [10, 11, 12], [20], [30, 31, 32, 33], [40]]"
      ]
     },
     "execution_count": 89,
     "metadata": {},
     "output_type": "execute_result"
    }
   ],
   "source": [
    "[list(item) for item in consecutive_groups(n) ]"
   ]
  },
  {
   "cell_type": "code",
   "execution_count": 90,
   "metadata": {},
   "outputs": [],
   "source": [
    "a=dict([ (i,chr(i)) for i in range(12390,12398)])"
   ]
  },
  {
   "cell_type": "code",
   "execution_count": 91,
   "metadata": {},
   "outputs": [
    {
     "data": {
      "text/plain": [
       "{12390: 'て',\n",
       " 12391: 'で',\n",
       " 12392: 'と',\n",
       " 12393: 'ど',\n",
       " 12394: 'な',\n",
       " 12395: 'に',\n",
       " 12396: 'ぬ',\n",
       " 12397: 'ね'}"
      ]
     },
     "execution_count": 91,
     "metadata": {},
     "output_type": "execute_result"
    }
   ],
   "source": [
    "a"
   ]
  },
  {
   "cell_type": "code",
   "execution_count": 92,
   "metadata": {},
   "outputs": [],
   "source": [
    "b=dict([ (i,chr(i)) for i in range(12832,12841)])"
   ]
  },
  {
   "cell_type": "code",
   "execution_count": 93,
   "metadata": {},
   "outputs": [
    {
     "data": {
      "text/plain": [
       "{12832: '㈠',\n",
       " 12833: '㈡',\n",
       " 12834: '㈢',\n",
       " 12835: '㈣',\n",
       " 12836: '㈤',\n",
       " 12837: '㈥',\n",
       " 12838: '㈦',\n",
       " 12839: '㈧',\n",
       " 12840: '㈨'}"
      ]
     },
     "execution_count": 93,
     "metadata": {},
     "output_type": "execute_result"
    }
   ],
   "source": [
    "b"
   ]
  },
  {
   "cell_type": "code",
   "execution_count": 94,
   "metadata": {},
   "outputs": [],
   "source": [
    "c=dict([ (i,chr(i)) for i in range(12354,12364)])"
   ]
  },
  {
   "cell_type": "code",
   "execution_count": 95,
   "metadata": {},
   "outputs": [
    {
     "data": {
      "text/plain": [
       "{12354: 'あ',\n",
       " 12355: 'ぃ',\n",
       " 12356: 'い',\n",
       " 12357: 'ぅ',\n",
       " 12358: 'う',\n",
       " 12359: 'ぇ',\n",
       " 12360: 'え',\n",
       " 12361: 'ぉ',\n",
       " 12362: 'お',\n",
       " 12363: 'か'}"
      ]
     },
     "execution_count": 95,
     "metadata": {},
     "output_type": "execute_result"
    }
   ],
   "source": [
    "c"
   ]
  },
  {
   "cell_type": "code",
   "execution_count": 96,
   "metadata": {},
   "outputs": [],
   "source": [
    "s={**a,**b,**c}"
   ]
  },
  {
   "cell_type": "code",
   "execution_count": 97,
   "metadata": {},
   "outputs": [
    {
     "data": {
      "text/plain": [
       "{12390: 'て',\n",
       " 12391: 'で',\n",
       " 12392: 'と',\n",
       " 12393: 'ど',\n",
       " 12394: 'な',\n",
       " 12395: 'に',\n",
       " 12396: 'ぬ',\n",
       " 12397: 'ね',\n",
       " 12832: '㈠',\n",
       " 12833: '㈡',\n",
       " 12834: '㈢',\n",
       " 12835: '㈣',\n",
       " 12836: '㈤',\n",
       " 12837: '㈥',\n",
       " 12838: '㈦',\n",
       " 12839: '㈧',\n",
       " 12840: '㈨',\n",
       " 12354: 'あ',\n",
       " 12355: 'ぃ',\n",
       " 12356: 'い',\n",
       " 12357: 'ぅ',\n",
       " 12358: 'う',\n",
       " 12359: 'ぇ',\n",
       " 12360: 'え',\n",
       " 12361: 'ぉ',\n",
       " 12362: 'お',\n",
       " 12363: 'か'}"
      ]
     },
     "execution_count": 97,
     "metadata": {},
     "output_type": "execute_result"
    }
   ],
   "source": [
    "#文字列に対してはできないので、辞書でハンドリング\n",
    "s"
   ]
  },
  {
   "cell_type": "code",
   "execution_count": 98,
   "metadata": {},
   "outputs": [
    {
     "data": {
      "text/plain": [
       "'㈤'"
      ]
     },
     "execution_count": 98,
     "metadata": {},
     "output_type": "execute_result"
    }
   ],
   "source": [
    "s[12836]"
   ]
  },
  {
   "cell_type": "code",
   "execution_count": 107,
   "metadata": {},
   "outputs": [
    {
     "data": {
      "text/plain": [
       "[[12390, 12391, 12392, 12393, 12394, 12395, 12396, 12397],\n",
       " [12832, 12833, 12834, 12835, 12836, 12837, 12838, 12839, 12840],\n",
       " [12354, 12355, 12356, 12357, 12358, 12359, 12360, 12361, 12362, 12363]]"
      ]
     },
     "execution_count": 107,
     "metadata": {},
     "output_type": "execute_result"
    }
   ],
   "source": [
    "[list(item) for item in consecutive_groups(s.keys()) ]"
   ]
  },
  {
   "cell_type": "code",
   "execution_count": 109,
   "metadata": {},
   "outputs": [
    {
     "data": {
      "text/plain": [
       "[[{12390: 'て'},\n",
       "  {12391: 'で'},\n",
       "  {12392: 'と'},\n",
       "  {12393: 'ど'},\n",
       "  {12394: 'な'},\n",
       "  {12395: 'に'},\n",
       "  {12396: 'ぬ'},\n",
       "  {12397: 'ね'}],\n",
       " [{12832: '㈠'},\n",
       "  {12833: '㈡'},\n",
       "  {12834: '㈢'},\n",
       "  {12835: '㈣'},\n",
       "  {12836: '㈤'},\n",
       "  {12837: '㈥'},\n",
       "  {12838: '㈦'},\n",
       "  {12839: '㈧'},\n",
       "  {12840: '㈨'}],\n",
       " [{12354: 'あ'},\n",
       "  {12355: 'ぃ'},\n",
       "  {12356: 'い'},\n",
       "  {12357: 'ぅ'},\n",
       "  {12358: 'う'},\n",
       "  {12359: 'ぇ'},\n",
       "  {12360: 'え'},\n",
       "  {12361: 'ぉ'},\n",
       "  {12362: 'お'},\n",
       "  {12363: 'か'}]]"
      ]
     },
     "execution_count": 109,
     "metadata": {},
     "output_type": "execute_result"
    }
   ],
   "source": [
    "[ [{k:s[k]} for k in list(item)] for item in consecutive_groups(s.keys()) ]"
   ]
  },
  {
   "cell_type": "code",
   "execution_count": null,
   "metadata": {},
   "outputs": [],
   "source": []
  }
 ],
 "metadata": {
  "kernelspec": {
   "display_name": "Python 3",
   "language": "python",
   "name": "python3"
  },
  "language_info": {
   "codemirror_mode": {
    "name": "ipython",
    "version": 3
   },
   "file_extension": ".py",
   "mimetype": "text/x-python",
   "name": "python",
   "nbconvert_exporter": "python",
   "pygments_lexer": "ipython3",
   "version": "3.7.4"
  }
 },
 "nbformat": 4,
 "nbformat_minor": 4
}
