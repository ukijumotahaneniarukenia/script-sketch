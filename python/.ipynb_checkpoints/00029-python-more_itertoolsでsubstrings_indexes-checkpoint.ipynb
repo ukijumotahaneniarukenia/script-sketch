{
 "cells": [
  {
   "cell_type": "code",
   "execution_count": 2,
   "metadata": {},
   "outputs": [],
   "source": [
    "from more_itertools import *\n",
    "import numpy as np"
   ]
  },
  {
   "cell_type": "code",
   "execution_count": 35,
   "metadata": {},
   "outputs": [
    {
     "name": "stdout",
     "output_type": "stream",
     "text": [
      "Help on function substrings_indexes in module more_itertools.more:\n",
      "\n",
      "substrings_indexes(seq, reverse=False)\n",
      "    Yield all substrings and their positions in *seq*\n",
      "    \n",
      "    The items yielded will be a tuple of the form ``(substr, i, j)``, where\n",
      "    ``substr == seq[i:j]``.\n",
      "    \n",
      "    This function only works for iterables that support slicing, such as\n",
      "    ``str`` objects.\n",
      "    \n",
      "    >>> for item in substrings_indexes('more'):\n",
      "    ...    print(item)\n",
      "    ('m', 0, 1)\n",
      "    ('o', 1, 2)\n",
      "    ('r', 2, 3)\n",
      "    ('e', 3, 4)\n",
      "    ('mo', 0, 2)\n",
      "    ('or', 1, 3)\n",
      "    ('re', 2, 4)\n",
      "    ('mor', 0, 3)\n",
      "    ('ore', 1, 4)\n",
      "    ('more', 0, 4)\n",
      "    \n",
      "    Set *reverse* to ``True`` to yield the same items in the opposite order.\n",
      "\n"
     ]
    }
   ],
   "source": [
    "help(substrings_indexes)"
   ]
  },
  {
   "cell_type": "code",
   "execution_count": 36,
   "metadata": {},
   "outputs": [],
   "source": [
    "a=[\"ポルコ\",\"まるこ\",\"ジーナ\"]"
   ]
  },
  {
   "cell_type": "code",
   "execution_count": 37,
   "metadata": {},
   "outputs": [
    {
     "data": {
      "text/plain": [
       "['ポルコ', 'まるこ', 'ジーナ']"
      ]
     },
     "execution_count": 37,
     "metadata": {},
     "output_type": "execute_result"
    }
   ],
   "source": [
    "a"
   ]
  },
  {
   "cell_type": "code",
   "execution_count": 38,
   "metadata": {},
   "outputs": [
    {
     "data": {
      "text/plain": [
       "[(['ポルコ'], 0, 1),\n",
       " (['まるこ'], 1, 2),\n",
       " (['ジーナ'], 2, 3),\n",
       " (['ポルコ', 'まるこ'], 0, 2),\n",
       " (['まるこ', 'ジーナ'], 1, 3),\n",
       " (['ポルコ', 'まるこ', 'ジーナ'], 0, 3)]"
      ]
     },
     "execution_count": 38,
     "metadata": {},
     "output_type": "execute_result"
    }
   ],
   "source": [
    "[comb for comb in substrings_indexes(a) ]"
   ]
  },
  {
   "cell_type": "code",
   "execution_count": 40,
   "metadata": {},
   "outputs": [],
   "source": [
    "b=\"ピッコロ\""
   ]
  },
  {
   "cell_type": "code",
   "execution_count": 41,
   "metadata": {},
   "outputs": [
    {
     "data": {
      "text/plain": [
       "[('ピ', 0, 1),\n",
       " ('ッ', 1, 2),\n",
       " ('コ', 2, 3),\n",
       " ('ロ', 3, 4),\n",
       " ('ピッ', 0, 2),\n",
       " ('ッコ', 1, 3),\n",
       " ('コロ', 2, 4),\n",
       " ('ピッコ', 0, 3),\n",
       " ('ッコロ', 1, 4),\n",
       " ('ピッコロ', 0, 4)]"
      ]
     },
     "execution_count": 41,
     "metadata": {},
     "output_type": "execute_result"
    }
   ],
   "source": [
    "[comb for comb in substrings_indexes(b) ]"
   ]
  },
  {
   "cell_type": "code",
   "execution_count": null,
   "metadata": {},
   "outputs": [],
   "source": []
  }
 ],
 "metadata": {
  "kernelspec": {
   "display_name": "Python 3",
   "language": "python",
   "name": "python3"
  },
  "language_info": {
   "codemirror_mode": {
    "name": "ipython",
    "version": 3
   },
   "file_extension": ".py",
   "mimetype": "text/x-python",
   "name": "python",
   "nbconvert_exporter": "python",
   "pygments_lexer": "ipython3",
   "version": "3.7.4"
  }
 },
 "nbformat": 4,
 "nbformat_minor": 4
}
