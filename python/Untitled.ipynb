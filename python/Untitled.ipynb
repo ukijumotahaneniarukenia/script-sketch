{
 "cells": [
  {
   "cell_type": "code",
   "execution_count": 2,
   "metadata": {},
   "outputs": [],
   "source": [
    "from more_itertools import *\n",
    "import numpy as np"
   ]
  },
  {
   "cell_type": "code",
   "execution_count": 3,
   "metadata": {},
   "outputs": [
    {
     "name": "stdout",
     "output_type": "stream",
     "text": [
      "Help on function stagger in module more_itertools.more:\n",
      "\n",
      "stagger(iterable, offsets=(-1, 0, 1), longest=False, fillvalue=None)\n",
      "    Yield tuples whose elements are offset from *iterable*.\n",
      "    The amount by which the `i`-th item in each tuple is offset is given by\n",
      "    the `i`-th item in *offsets*.\n",
      "    \n",
      "        >>> list(stagger([0, 1, 2, 3]))\n",
      "        [(None, 0, 1), (0, 1, 2), (1, 2, 3)]\n",
      "        >>> list(stagger(range(8), offsets=(0, 2, 4)))\n",
      "        [(0, 2, 4), (1, 3, 5), (2, 4, 6), (3, 5, 7)]\n",
      "    \n",
      "    By default, the sequence will end when the final element of a tuple is the\n",
      "    last item in the iterable. To continue until the first element of a tuple\n",
      "    is the last item in the iterable, set *longest* to ``True``::\n",
      "    \n",
      "        >>> list(stagger([0, 1, 2, 3], longest=True))\n",
      "        [(None, 0, 1), (0, 1, 2), (1, 2, 3), (2, 3, None), (3, None, None)]\n",
      "    \n",
      "    By default, ``None`` will be used to replace offsets beyond the end of the\n",
      "    sequence. Specify *fillvalue* to use some other value.\n",
      "\n"
     ]
    }
   ],
   "source": [
    "help(stagger)"
   ]
  },
  {
   "cell_type": "code",
   "execution_count": null,
   "metadata": {},
   "outputs": [],
   "source": []
  }
 ],
 "metadata": {
  "kernelspec": {
   "display_name": "Python 3",
   "language": "python",
   "name": "python3"
  },
  "language_info": {
   "codemirror_mode": {
    "name": "ipython",
    "version": 3
   },
   "file_extension": ".py",
   "mimetype": "text/x-python",
   "name": "python",
   "nbconvert_exporter": "python",
   "pygments_lexer": "ipython3",
   "version": "3.7.4"
  }
 },
 "nbformat": 4,
 "nbformat_minor": 4
}
