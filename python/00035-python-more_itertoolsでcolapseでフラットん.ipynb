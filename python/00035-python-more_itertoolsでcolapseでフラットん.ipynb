{
 "cells": [
  {
   "cell_type": "code",
   "execution_count": 1,
   "metadata": {},
   "outputs": [
    {
     "name": "stderr",
     "output_type": "stream",
     "text": [
      "/home/kuraine/.local/lib/python3.7/site-packages/pandas/compat/__init__.py:117: UserWarning: Could not import the lzma module. Your installed Python is incomplete. Attempting to use lzma compression will result in a RuntimeError.\n",
      "  warnings.warn(msg)\n"
     ]
    }
   ],
   "source": [
    "from more_itertools import *\n",
    "import numpy as np\n",
    "import pandas as pd"
   ]
  },
  {
   "cell_type": "code",
   "execution_count": 5,
   "metadata": {},
   "outputs": [
    {
     "name": "stdout",
     "output_type": "stream",
     "text": [
      "Help on function flatten in module more_itertools.recipes:\n",
      "\n",
      "flatten(listOfLists)\n",
      "    Return an iterator flattening one level of nesting in a list of lists.\n",
      "    \n",
      "        >>> list(flatten([[0, 1], [2, 3]]))\n",
      "        [0, 1, 2, 3]\n",
      "    \n",
      "    See also :func:`collapse`, which can flatten multiple levels of nesting.\n",
      "\n"
     ]
    }
   ],
   "source": [
    "help(flatten)"
   ]
  },
  {
   "cell_type": "code",
   "execution_count": 7,
   "metadata": {},
   "outputs": [
    {
     "data": {
      "text/plain": [
       "[0, 1, 2, 3]"
      ]
     },
     "execution_count": 7,
     "metadata": {},
     "output_type": "execute_result"
    }
   ],
   "source": [
    "list(flatten([[0, 1], [2, 3]]))"
   ]
  },
  {
   "cell_type": "code",
   "execution_count": 9,
   "metadata": {},
   "outputs": [
    {
     "data": {
      "text/plain": [
       "[0, 1, [4], 2, 3, [5]]"
      ]
     },
     "execution_count": 9,
     "metadata": {},
     "output_type": "execute_result"
    }
   ],
   "source": [
    "list(flatten([[0, 1,[4]], [2, 3,[5]]]))"
   ]
  },
  {
   "cell_type": "code",
   "execution_count": 10,
   "metadata": {},
   "outputs": [
    {
     "name": "stdout",
     "output_type": "stream",
     "text": [
      "Help on function collapse in module more_itertools.more:\n",
      "\n",
      "collapse(iterable, base_type=None, levels=None)\n",
      "    Flatten an iterable with multiple levels of nesting (e.g., a list of\n",
      "    lists of tuples) into non-iterable types.\n",
      "    \n",
      "        >>> iterable = [(1, 2), ([3, 4], [[5], [6]])]\n",
      "        >>> list(collapse(iterable))\n",
      "        [1, 2, 3, 4, 5, 6]\n",
      "    \n",
      "    Binary and text strings are not considered iterable and\n",
      "    will not be collapsed.\n",
      "    \n",
      "    To avoid collapsing other types, specify *base_type*:\n",
      "    \n",
      "        >>> iterable = ['ab', ('cd', 'ef'), ['gh', 'ij']]\n",
      "        >>> list(collapse(iterable, base_type=tuple))\n",
      "        ['ab', ('cd', 'ef'), 'gh', 'ij']\n",
      "    \n",
      "    Specify *levels* to stop flattening after a certain level:\n",
      "    \n",
      "    >>> iterable = [('a', ['b']), ('c', ['d'])]\n",
      "    >>> list(collapse(iterable))  # Fully flattened\n",
      "    ['a', 'b', 'c', 'd']\n",
      "    >>> list(collapse(iterable, levels=1))  # Only one level flattened\n",
      "    ['a', ['b'], 'c', ['d']]\n",
      "\n"
     ]
    }
   ],
   "source": [
    "help(collapse)"
   ]
  },
  {
   "cell_type": "code",
   "execution_count": 16,
   "metadata": {},
   "outputs": [],
   "source": [
    "a = [(1, 2), ([3, 4], [[5], [6]])]"
   ]
  },
  {
   "cell_type": "code",
   "execution_count": 17,
   "metadata": {},
   "outputs": [
    {
     "data": {
      "text/plain": [
       "[(1, 2), ([3, 4], [[5], [6]])]"
      ]
     },
     "execution_count": 17,
     "metadata": {},
     "output_type": "execute_result"
    }
   ],
   "source": [
    "a"
   ]
  },
  {
   "cell_type": "code",
   "execution_count": 18,
   "metadata": {},
   "outputs": [
    {
     "data": {
      "text/plain": [
       "[1, 2, 3, 4, 5, 6]"
      ]
     },
     "execution_count": 18,
     "metadata": {},
     "output_type": "execute_result"
    }
   ],
   "source": [
    "#ネスト数を問わず、フラット化できる\n",
    "list(collapse(a))"
   ]
  },
  {
   "cell_type": "code",
   "execution_count": 22,
   "metadata": {},
   "outputs": [
    {
     "data": {
      "text/plain": [
       "[1, 2, [3, 4], [[5], [6]]]"
      ]
     },
     "execution_count": 22,
     "metadata": {},
     "output_type": "execute_result"
    }
   ],
   "source": [
    "#指定したネストレベルまでをフラット化できる\n",
    "list(collapse(a, levels=1))"
   ]
  },
  {
   "cell_type": "code",
   "execution_count": 26,
   "metadata": {},
   "outputs": [
    {
     "data": {
      "text/plain": [
       "[1, 2, 3, 4, [5], [6]]"
      ]
     },
     "execution_count": 26,
     "metadata": {},
     "output_type": "execute_result"
    }
   ],
   "source": [
    "list(collapse(a, levels=2))"
   ]
  },
  {
   "cell_type": "code",
   "execution_count": 23,
   "metadata": {},
   "outputs": [
    {
     "data": {
      "text/plain": [
       "[[(1, 2), ([3, 4], [[5], [6]])]]"
      ]
     },
     "execution_count": 23,
     "metadata": {},
     "output_type": "execute_result"
    }
   ],
   "source": [
    "list(collapse(a, levels=-1))"
   ]
  },
  {
   "cell_type": "code",
   "execution_count": 24,
   "metadata": {},
   "outputs": [
    {
     "data": {
      "text/plain": [
       "[[(1, 2), ([3, 4], [[5], [6]])]]"
      ]
     },
     "execution_count": 24,
     "metadata": {},
     "output_type": "execute_result"
    }
   ],
   "source": [
    "list(collapse(a, levels=-2))"
   ]
  },
  {
   "cell_type": "code",
   "execution_count": 19,
   "metadata": {},
   "outputs": [],
   "source": [
    "b = ['ab', ('cd', 'ef'), ['gh', 'ij']]"
   ]
  },
  {
   "cell_type": "code",
   "execution_count": 20,
   "metadata": {
    "scrolled": true
   },
   "outputs": [
    {
     "data": {
      "text/plain": [
       "['ab', ('cd', 'ef'), 'gh', 'ij']"
      ]
     },
     "execution_count": 20,
     "metadata": {},
     "output_type": "execute_result"
    }
   ],
   "source": [
    "#指定した基本データ型以外をフラット化できる\n",
    "list(collapse(b, base_type=tuple))"
   ]
  }
 ],
 "metadata": {
  "kernelspec": {
   "display_name": "Python 3",
   "language": "python",
   "name": "python3"
  },
  "language_info": {
   "codemirror_mode": {
    "name": "ipython",
    "version": 3
   },
   "file_extension": ".py",
   "mimetype": "text/x-python",
   "name": "python",
   "nbconvert_exporter": "python",
   "pygments_lexer": "ipython3",
   "version": "3.7.4"
  }
 },
 "nbformat": 4,
 "nbformat_minor": 4
}
