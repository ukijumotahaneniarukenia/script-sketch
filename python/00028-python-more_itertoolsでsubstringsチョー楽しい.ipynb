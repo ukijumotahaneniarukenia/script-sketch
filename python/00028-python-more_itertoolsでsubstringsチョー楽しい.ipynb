{
 "cells": [
  {
   "cell_type": "code",
   "execution_count": 20,
   "metadata": {},
   "outputs": [
    {
     "name": "stderr",
     "output_type": "stream",
     "text": [
      "/home/kuraine/.local/lib/python3.7/site-packages/pandas/compat/__init__.py:117: UserWarning: Could not import the lzma module. Your installed Python is incomplete. Attempting to use lzma compression will result in a RuntimeError.\n",
      "  warnings.warn(msg)\n"
     ]
    }
   ],
   "source": [
    "from more_itertools import *\n",
    "import numpy as np\n",
    "import pandas as pd"
   ]
  },
  {
   "cell_type": "code",
   "execution_count": 4,
   "metadata": {},
   "outputs": [
    {
     "name": "stdout",
     "output_type": "stream",
     "text": [
      "Help on function substrings in module more_itertools.more:\n",
      "\n",
      "substrings(iterable)\n",
      "    Yield all of the substrings of *iterable*.\n",
      "    \n",
      "        >>> [''.join(s) for s in substrings('more')]\n",
      "        ['m', 'o', 'r', 'e', 'mo', 'or', 're', 'mor', 'ore', 'more']\n",
      "    \n",
      "    Note that non-string iterables can also be subdivided.\n",
      "    \n",
      "        >>> list(substrings([0, 1, 2]))\n",
      "        [(0,), (1,), (2,), (0, 1), (1, 2), (0, 1, 2)]\n",
      "\n"
     ]
    }
   ],
   "source": [
    "help(substrings)"
   ]
  },
  {
   "cell_type": "code",
   "execution_count": 5,
   "metadata": {},
   "outputs": [
    {
     "data": {
      "text/plain": [
       "<generator object substrings at 0x7f88301a4050>"
      ]
     },
     "execution_count": 5,
     "metadata": {},
     "output_type": "execute_result"
    }
   ],
   "source": [
    "substrings('うんこもりもり森鴎外')"
   ]
  },
  {
   "cell_type": "code",
   "execution_count": 6,
   "metadata": {},
   "outputs": [
    {
     "data": {
      "text/plain": [
       "[('う',),\n",
       " ('ん',),\n",
       " ('こ',),\n",
       " ('も',),\n",
       " ('り',),\n",
       " ('も',),\n",
       " ('り',),\n",
       " ('森',),\n",
       " ('鴎',),\n",
       " ('外',),\n",
       " ('う', 'ん'),\n",
       " ('ん', 'こ'),\n",
       " ('こ', 'も'),\n",
       " ('も', 'り'),\n",
       " ('り', 'も'),\n",
       " ('も', 'り'),\n",
       " ('り', '森'),\n",
       " ('森', '鴎'),\n",
       " ('鴎', '外'),\n",
       " ('う', 'ん', 'こ'),\n",
       " ('ん', 'こ', 'も'),\n",
       " ('こ', 'も', 'り'),\n",
       " ('も', 'り', 'も'),\n",
       " ('り', 'も', 'り'),\n",
       " ('も', 'り', '森'),\n",
       " ('り', '森', '鴎'),\n",
       " ('森', '鴎', '外'),\n",
       " ('う', 'ん', 'こ', 'も'),\n",
       " ('ん', 'こ', 'も', 'り'),\n",
       " ('こ', 'も', 'り', 'も'),\n",
       " ('も', 'り', 'も', 'り'),\n",
       " ('り', 'も', 'り', '森'),\n",
       " ('も', 'り', '森', '鴎'),\n",
       " ('り', '森', '鴎', '外'),\n",
       " ('う', 'ん', 'こ', 'も', 'り'),\n",
       " ('ん', 'こ', 'も', 'り', 'も'),\n",
       " ('こ', 'も', 'り', 'も', 'り'),\n",
       " ('も', 'り', 'も', 'り', '森'),\n",
       " ('り', 'も', 'り', '森', '鴎'),\n",
       " ('も', 'り', '森', '鴎', '外'),\n",
       " ('う', 'ん', 'こ', 'も', 'り', 'も'),\n",
       " ('ん', 'こ', 'も', 'り', 'も', 'り'),\n",
       " ('こ', 'も', 'り', 'も', 'り', '森'),\n",
       " ('も', 'り', 'も', 'り', '森', '鴎'),\n",
       " ('り', 'も', 'り', '森', '鴎', '外'),\n",
       " ('う', 'ん', 'こ', 'も', 'り', 'も', 'り'),\n",
       " ('ん', 'こ', 'も', 'り', 'も', 'り', '森'),\n",
       " ('こ', 'も', 'り', 'も', 'り', '森', '鴎'),\n",
       " ('も', 'り', 'も', 'り', '森', '鴎', '外'),\n",
       " ('う', 'ん', 'こ', 'も', 'り', 'も', 'り', '森'),\n",
       " ('ん', 'こ', 'も', 'り', 'も', 'り', '森', '鴎'),\n",
       " ('こ', 'も', 'り', 'も', 'り', '森', '鴎', '外'),\n",
       " ('う', 'ん', 'こ', 'も', 'り', 'も', 'り', '森', '鴎'),\n",
       " ('ん', 'こ', 'も', 'り', 'も', 'り', '森', '鴎', '外'),\n",
       " ('う', 'ん', 'こ', 'も', 'り', 'も', 'り', '森', '鴎', '外')]"
      ]
     },
     "execution_count": 6,
     "metadata": {},
     "output_type": "execute_result"
    }
   ],
   "source": [
    "list(substrings('うんこもりもり森鴎外'))"
   ]
  },
  {
   "cell_type": "code",
   "execution_count": 7,
   "metadata": {},
   "outputs": [
    {
     "data": {
      "text/plain": [
       "[('a',),\n",
       " ('b',),\n",
       " ('c',),\n",
       " ('d',),\n",
       " ('a', 'b'),\n",
       " ('b', 'c'),\n",
       " ('c', 'd'),\n",
       " ('a', 'b', 'c'),\n",
       " ('b', 'c', 'd'),\n",
       " ('a', 'b', 'c', 'd')]"
      ]
     },
     "execution_count": 7,
     "metadata": {},
     "output_type": "execute_result"
    }
   ],
   "source": [
    "#組み合わせの総和ができる\n",
    "list(substrings('abcd'))"
   ]
  },
  {
   "cell_type": "code",
   "execution_count": 10,
   "metadata": {},
   "outputs": [
    {
     "data": {
      "text/plain": [
       "[('ポルコ',),\n",
       " ('まるこ',),\n",
       " ('ジーナ',),\n",
       " ('ポルコ', 'まるこ'),\n",
       " ('まるこ', 'ジーナ'),\n",
       " ('ポルコ', 'まるこ', 'ジーナ')]"
      ]
     },
     "execution_count": 10,
     "metadata": {},
     "output_type": "execute_result"
    }
   ],
   "source": [
    "list(substrings(('ポルコ','まるこ','ジーナ')))"
   ]
  },
  {
   "cell_type": "code",
   "execution_count": 12,
   "metadata": {},
   "outputs": [
    {
     "data": {
      "text/plain": [
       "[('ポルコ',),\n",
       " ('まるこ',),\n",
       " ('ジーナ',),\n",
       " ('ポルコ', 'まるこ'),\n",
       " ('まるこ', 'ジーナ'),\n",
       " ('ポルコ', 'まるこ', 'ジーナ')]"
      ]
     },
     "execution_count": 12,
     "metadata": {},
     "output_type": "execute_result"
    }
   ],
   "source": [
    "list(substrings(['ポルコ','まるこ','ジーナ']))"
   ]
  },
  {
   "cell_type": "code",
   "execution_count": 13,
   "metadata": {},
   "outputs": [
    {
     "data": {
      "text/plain": [
       "[('ポルコ',),\n",
       " ('まるこ',),\n",
       " ('ジーナ',),\n",
       " ('ポルコ', 'まるこ'),\n",
       " ('まるこ', 'ジーナ'),\n",
       " ('ポルコ', 'まるこ', 'ジーナ')]"
      ]
     },
     "execution_count": 13,
     "metadata": {},
     "output_type": "execute_result"
    }
   ],
   "source": [
    "list(substrings({'ポルコ':1,'まるこ':2,'ジーナ':3}))"
   ]
  },
  {
   "cell_type": "code",
   "execution_count": 14,
   "metadata": {},
   "outputs": [
    {
     "data": {
      "text/plain": [
       "[(1,), (2,), (3,), (1, 2), (2, 3), (1, 2, 3)]"
      ]
     },
     "execution_count": 14,
     "metadata": {},
     "output_type": "execute_result"
    }
   ],
   "source": [
    "list(substrings({1:'ポルコ',2:'まるこ',3:'ジーナ'}))"
   ]
  },
  {
   "cell_type": "code",
   "execution_count": 15,
   "metadata": {},
   "outputs": [
    {
     "data": {
      "text/plain": [
       "['あ', 'ぃ', 'い', 'ぅ', 'う', 'ぇ']"
      ]
     },
     "execution_count": 15,
     "metadata": {},
     "output_type": "execute_result"
    }
   ],
   "source": [
    "[ chr(i) for i in range(12354,12360)]"
   ]
  },
  {
   "cell_type": "code",
   "execution_count": 16,
   "metadata": {},
   "outputs": [],
   "source": [
    "a = np.array([ chr(i) for i in range(12354,12360)],dtype=\"object\")"
   ]
  },
  {
   "cell_type": "code",
   "execution_count": 18,
   "metadata": {},
   "outputs": [
    {
     "data": {
      "text/plain": [
       "numpy.ndarray"
      ]
     },
     "execution_count": 18,
     "metadata": {},
     "output_type": "execute_result"
    }
   ],
   "source": [
    "type(a)"
   ]
  },
  {
   "cell_type": "code",
   "execution_count": 17,
   "metadata": {},
   "outputs": [
    {
     "data": {
      "text/plain": [
       "[('あ',),\n",
       " ('ぃ',),\n",
       " ('い',),\n",
       " ('ぅ',),\n",
       " ('う',),\n",
       " ('ぇ',),\n",
       " ('あ', 'ぃ'),\n",
       " ('ぃ', 'い'),\n",
       " ('い', 'ぅ'),\n",
       " ('ぅ', 'う'),\n",
       " ('う', 'ぇ'),\n",
       " ('あ', 'ぃ', 'い'),\n",
       " ('ぃ', 'い', 'ぅ'),\n",
       " ('い', 'ぅ', 'う'),\n",
       " ('ぅ', 'う', 'ぇ'),\n",
       " ('あ', 'ぃ', 'い', 'ぅ'),\n",
       " ('ぃ', 'い', 'ぅ', 'う'),\n",
       " ('い', 'ぅ', 'う', 'ぇ'),\n",
       " ('あ', 'ぃ', 'い', 'ぅ', 'う'),\n",
       " ('ぃ', 'い', 'ぅ', 'う', 'ぇ'),\n",
       " ('あ', 'ぃ', 'い', 'ぅ', 'う', 'ぇ')]"
      ]
     },
     "execution_count": 17,
     "metadata": {},
     "output_type": "execute_result"
    }
   ],
   "source": [
    "list(substrings(a))"
   ]
  },
  {
   "cell_type": "code",
   "execution_count": 21,
   "metadata": {},
   "outputs": [],
   "source": [
    "s=pd.Series([ chr(i) for i in range(12360,12365)])"
   ]
  },
  {
   "cell_type": "code",
   "execution_count": 22,
   "metadata": {},
   "outputs": [
    {
     "data": {
      "text/plain": [
       "pandas.core.series.Series"
      ]
     },
     "execution_count": 22,
     "metadata": {},
     "output_type": "execute_result"
    }
   ],
   "source": [
    "type(s)"
   ]
  },
  {
   "cell_type": "code",
   "execution_count": 23,
   "metadata": {},
   "outputs": [
    {
     "data": {
      "text/plain": [
       "0    え\n",
       "1    ぉ\n",
       "2    お\n",
       "3    か\n",
       "4    が\n",
       "dtype: object"
      ]
     },
     "execution_count": 23,
     "metadata": {},
     "output_type": "execute_result"
    }
   ],
   "source": [
    "s"
   ]
  },
  {
   "cell_type": "code",
   "execution_count": 24,
   "metadata": {},
   "outputs": [
    {
     "data": {
      "text/plain": [
       "[('え',),\n",
       " ('ぉ',),\n",
       " ('お',),\n",
       " ('か',),\n",
       " ('が',),\n",
       " ('え', 'ぉ'),\n",
       " ('ぉ', 'お'),\n",
       " ('お', 'か'),\n",
       " ('か', 'が'),\n",
       " ('え', 'ぉ', 'お'),\n",
       " ('ぉ', 'お', 'か'),\n",
       " ('お', 'か', 'が'),\n",
       " ('え', 'ぉ', 'お', 'か'),\n",
       " ('ぉ', 'お', 'か', 'が'),\n",
       " ('え', 'ぉ', 'お', 'か', 'が')]"
      ]
     },
     "execution_count": 24,
     "metadata": {},
     "output_type": "execute_result"
    }
   ],
   "source": [
    "list(substrings(s))"
   ]
  },
  {
   "cell_type": "code",
   "execution_count": 25,
   "metadata": {},
   "outputs": [],
   "source": [
    "df_tmp = pd.DataFrame([[ chr(i) for i in range(12360,12365)],[ chr(i) for i in range(12370,12375)]])"
   ]
  },
  {
   "cell_type": "code",
   "execution_count": 26,
   "metadata": {},
   "outputs": [
    {
     "data": {
      "text/plain": [
       "pandas.core.frame.DataFrame"
      ]
     },
     "execution_count": 26,
     "metadata": {},
     "output_type": "execute_result"
    }
   ],
   "source": [
    "type(df_tmp)"
   ]
  },
  {
   "cell_type": "code",
   "execution_count": 27,
   "metadata": {},
   "outputs": [],
   "source": [
    "df = df_tmp.T\n",
    "df.columns=[\"k\",\"v\"]"
   ]
  },
  {
   "cell_type": "code",
   "execution_count": 28,
   "metadata": {},
   "outputs": [
    {
     "data": {
      "text/html": [
       "<div>\n",
       "<style scoped>\n",
       "    .dataframe tbody tr th:only-of-type {\n",
       "        vertical-align: middle;\n",
       "    }\n",
       "\n",
       "    .dataframe tbody tr th {\n",
       "        vertical-align: top;\n",
       "    }\n",
       "\n",
       "    .dataframe thead th {\n",
       "        text-align: right;\n",
       "    }\n",
       "</style>\n",
       "<table border=\"1\" class=\"dataframe\">\n",
       "  <thead>\n",
       "    <tr style=\"text-align: right;\">\n",
       "      <th></th>\n",
       "      <th>k</th>\n",
       "      <th>v</th>\n",
       "    </tr>\n",
       "  </thead>\n",
       "  <tbody>\n",
       "    <tr>\n",
       "      <th>0</th>\n",
       "      <td>え</td>\n",
       "      <td>げ</td>\n",
       "    </tr>\n",
       "    <tr>\n",
       "      <th>1</th>\n",
       "      <td>ぉ</td>\n",
       "      <td>こ</td>\n",
       "    </tr>\n",
       "    <tr>\n",
       "      <th>2</th>\n",
       "      <td>お</td>\n",
       "      <td>ご</td>\n",
       "    </tr>\n",
       "    <tr>\n",
       "      <th>3</th>\n",
       "      <td>か</td>\n",
       "      <td>さ</td>\n",
       "    </tr>\n",
       "    <tr>\n",
       "      <th>4</th>\n",
       "      <td>が</td>\n",
       "      <td>ざ</td>\n",
       "    </tr>\n",
       "  </tbody>\n",
       "</table>\n",
       "</div>"
      ],
      "text/plain": [
       "   k  v\n",
       "0  え  げ\n",
       "1  ぉ  こ\n",
       "2  お  ご\n",
       "3  か  さ\n",
       "4  が  ざ"
      ]
     },
     "execution_count": 28,
     "metadata": {},
     "output_type": "execute_result"
    }
   ],
   "source": [
    "df"
   ]
  },
  {
   "cell_type": "code",
   "execution_count": 29,
   "metadata": {},
   "outputs": [
    {
     "data": {
      "text/plain": [
       "[('k',), ('v',), ('k', 'v')]"
      ]
     },
     "execution_count": 29,
     "metadata": {},
     "output_type": "execute_result"
    }
   ],
   "source": [
    "list(substrings(df))"
   ]
  },
  {
   "cell_type": "code",
   "execution_count": 30,
   "metadata": {},
   "outputs": [
    {
     "data": {
      "text/html": [
       "<div>\n",
       "<style scoped>\n",
       "    .dataframe tbody tr th:only-of-type {\n",
       "        vertical-align: middle;\n",
       "    }\n",
       "\n",
       "    .dataframe tbody tr th {\n",
       "        vertical-align: top;\n",
       "    }\n",
       "\n",
       "    .dataframe thead th {\n",
       "        text-align: right;\n",
       "    }\n",
       "</style>\n",
       "<table border=\"1\" class=\"dataframe\">\n",
       "  <thead>\n",
       "    <tr style=\"text-align: right;\">\n",
       "      <th></th>\n",
       "      <th>k</th>\n",
       "      <th>v</th>\n",
       "    </tr>\n",
       "  </thead>\n",
       "  <tbody>\n",
       "    <tr>\n",
       "      <th>0</th>\n",
       "      <td>え</td>\n",
       "      <td>げ</td>\n",
       "    </tr>\n",
       "    <tr>\n",
       "      <th>1</th>\n",
       "      <td>ぉ</td>\n",
       "      <td>こ</td>\n",
       "    </tr>\n",
       "    <tr>\n",
       "      <th>2</th>\n",
       "      <td>お</td>\n",
       "      <td>ご</td>\n",
       "    </tr>\n",
       "    <tr>\n",
       "      <th>3</th>\n",
       "      <td>か</td>\n",
       "      <td>さ</td>\n",
       "    </tr>\n",
       "    <tr>\n",
       "      <th>4</th>\n",
       "      <td>が</td>\n",
       "      <td>ざ</td>\n",
       "    </tr>\n",
       "  </tbody>\n",
       "</table>\n",
       "</div>"
      ],
      "text/plain": [
       "   k  v\n",
       "0  え  げ\n",
       "1  ぉ  こ\n",
       "2  お  ご\n",
       "3  か  さ\n",
       "4  が  ざ"
      ]
     },
     "execution_count": 30,
     "metadata": {},
     "output_type": "execute_result"
    }
   ],
   "source": [
    "df[[\"k\",\"v\"]]"
   ]
  },
  {
   "cell_type": "code",
   "execution_count": 31,
   "metadata": {},
   "outputs": [
    {
     "data": {
      "text/plain": [
       "pandas.core.frame.DataFrame"
      ]
     },
     "execution_count": 31,
     "metadata": {},
     "output_type": "execute_result"
    }
   ],
   "source": [
    "type(df[[\"k\",\"v\"]])"
   ]
  },
  {
   "cell_type": "code",
   "execution_count": 32,
   "metadata": {},
   "outputs": [
    {
     "data": {
      "text/plain": [
       "[('k',), ('v',), ('k', 'v')]"
      ]
     },
     "execution_count": 32,
     "metadata": {},
     "output_type": "execute_result"
    }
   ],
   "source": [
    "list(substrings(df[[\"k\",\"v\"]]))"
   ]
  },
  {
   "cell_type": "code",
   "execution_count": 34,
   "metadata": {},
   "outputs": [
    {
     "data": {
      "text/plain": [
       "[('k',)]"
      ]
     },
     "execution_count": 34,
     "metadata": {},
     "output_type": "execute_result"
    }
   ],
   "source": [
    "list(substrings(df[[\"k\"]]))"
   ]
  },
  {
   "cell_type": "code",
   "execution_count": null,
   "metadata": {},
   "outputs": [],
   "source": []
  }
 ],
 "metadata": {
  "kernelspec": {
   "display_name": "Python 3",
   "language": "python",
   "name": "python3"
  },
  "language_info": {
   "codemirror_mode": {
    "name": "ipython",
    "version": 3
   },
   "file_extension": ".py",
   "mimetype": "text/x-python",
   "name": "python",
   "nbconvert_exporter": "python",
   "pygments_lexer": "ipython3",
   "version": "3.7.4"
  }
 },
 "nbformat": 4,
 "nbformat_minor": 4
}
