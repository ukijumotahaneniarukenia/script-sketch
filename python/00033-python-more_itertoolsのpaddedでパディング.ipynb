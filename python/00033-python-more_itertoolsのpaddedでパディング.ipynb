{
 "cells": [
  {
   "cell_type": "code",
   "execution_count": 1,
   "metadata": {},
   "outputs": [],
   "source": [
    "from more_itertools import *\n",
    "import numpy as np"
   ]
  },
  {
   "cell_type": "code",
   "execution_count": 3,
   "metadata": {},
   "outputs": [
    {
     "name": "stdout",
     "output_type": "stream",
     "text": [
      "Help on function padded in module more_itertools.more:\n",
      "\n",
      "padded(iterable, fillvalue=None, n=None, next_multiple=False)\n",
      "    Yield the elements from *iterable*, followed by *fillvalue*, such that\n",
      "    at least *n* items are emitted.\n",
      "    \n",
      "        >>> list(padded([1, 2, 3], '?', 5))\n",
      "        [1, 2, 3, '?', '?']\n",
      "    \n",
      "    If *next_multiple* is ``True``, *fillvalue* will be emitted until the\n",
      "    number of items emitted is a multiple of *n*::\n",
      "    \n",
      "        >>> list(padded([1, 2, 3, 4], n=3, next_multiple=True))\n",
      "        [1, 2, 3, 4, None, None]\n",
      "    \n",
      "    If *n* is ``None``, *fillvalue* will be emitted indefinitely.\n",
      "\n"
     ]
    }
   ],
   "source": [
    "help(padded)"
   ]
  },
  {
   "cell_type": "code",
   "execution_count": 4,
   "metadata": {},
   "outputs": [
    {
     "data": {
      "text/plain": [
       "['あ', 'ぃ', 'い', 'ぅ', 'う', 'ぇ']"
      ]
     },
     "execution_count": 4,
     "metadata": {},
     "output_type": "execute_result"
    }
   ],
   "source": [
    "[ chr(i) for i in range(12354,12360)]"
   ]
  },
  {
   "cell_type": "code",
   "execution_count": 5,
   "metadata": {},
   "outputs": [],
   "source": [
    "a = [ chr(i) for i in range(12354,12360)]"
   ]
  },
  {
   "cell_type": "code",
   "execution_count": 6,
   "metadata": {},
   "outputs": [
    {
     "data": {
      "text/plain": [
       "['あ', 'ぃ', 'い', 'ぅ', 'う', 'ぇ']"
      ]
     },
     "execution_count": 6,
     "metadata": {},
     "output_type": "execute_result"
    }
   ],
   "source": [
    "a"
   ]
  },
  {
   "cell_type": "code",
   "execution_count": 7,
   "metadata": {},
   "outputs": [
    {
     "data": {
      "text/plain": [
       "['あ', 'ぃ', 'い', 'ぅ', 'う', 'ぇ', '＠', '＠', '＠', '＠']"
      ]
     },
     "execution_count": 7,
     "metadata": {},
     "output_type": "execute_result"
    }
   ],
   "source": [
    "list(padded(a,'＠',10))"
   ]
  },
  {
   "cell_type": "code",
   "execution_count": 9,
   "metadata": {},
   "outputs": [
    {
     "data": {
      "text/plain": [
       "['う', 'ん', 'こ', '＠', '＠', '＠', '＠', '＠', '＠', '＠']"
      ]
     },
     "execution_count": 9,
     "metadata": {},
     "output_type": "execute_result"
    }
   ],
   "source": [
    "list(padded('うんこ','＠',10))"
   ]
  },
  {
   "cell_type": "code",
   "execution_count": 10,
   "metadata": {},
   "outputs": [
    {
     "data": {
      "text/plain": [
       "'うんこ＠＠＠＠＠＠＠'"
      ]
     },
     "execution_count": 10,
     "metadata": {},
     "output_type": "execute_result"
    }
   ],
   "source": [
    "\"\".join(list(padded('うんこ','＠',10)))"
   ]
  },
  {
   "cell_type": "code",
   "execution_count": null,
   "metadata": {},
   "outputs": [],
   "source": []
  }
 ],
 "metadata": {
  "kernelspec": {
   "display_name": "Python 3",
   "language": "python",
   "name": "python3"
  },
  "language_info": {
   "codemirror_mode": {
    "name": "ipython",
    "version": 3
   },
   "file_extension": ".py",
   "mimetype": "text/x-python",
   "name": "python",
   "nbconvert_exporter": "python",
   "pygments_lexer": "ipython3",
   "version": "3.7.4"
  }
 },
 "nbformat": 4,
 "nbformat_minor": 4
}
