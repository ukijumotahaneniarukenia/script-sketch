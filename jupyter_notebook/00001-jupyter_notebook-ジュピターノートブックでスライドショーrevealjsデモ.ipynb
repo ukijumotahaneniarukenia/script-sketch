{
 "cells": [
  {
   "cell_type": "markdown",
   "metadata": {
    "slideshow": {
     "slide_type": "slide"
    }
   },
   "source": [
    "# 外部ライブラリの調査のためのツール"
   ]
  },
  {
   "cell_type": "markdown",
   "metadata": {
    "slideshow": {
     "slide_type": "slide"
    }
   },
   "source": [
    "# はじめに"
   ]
  },
  {
   "cell_type": "markdown",
   "metadata": {
    "slideshow": {
     "slide_type": "subslide"
    }
   },
   "source": [
    "世の中へ言語を問わず次から次へと外部ライブラリが出てきて調査が大変\n",
    "\n",
    "使い方を覚えてもすぐ忘れてしまう\n",
    "\n",
    "どうせ使うなら便利に使いたい"
   ]
  },
  {
   "cell_type": "markdown",
   "metadata": {
    "slideshow": {
     "slide_type": "slide"
    }
   },
   "source": [
    "# 背景"
   ]
  },
  {
   "cell_type": "markdown",
   "metadata": {
    "slideshow": {
     "slide_type": "subslide"
    }
   },
   "source": [
    "IDEの補完でそれっぽいものを選択してコーディングしている時期があった\n",
    "\n",
    "外部ライブラリの全貌を把握できていなかったからそうせざるを得なかった\n",
    "\n",
    "外部ライブラリの機能を一覧取得するやり方が知りたかった\n",
    "\n",
    "いろいろ書いているうちに把握するやり方がわかってきた\n",
    "\n",
    "初めて触れた言語がjavalangだったので、実装した"
   ]
  },
  {
   "cell_type": "markdown",
   "metadata": {
    "slideshow": {
     "slide_type": "slide"
    }
   },
   "source": [
    "# 実装方針"
   ]
  },
  {
   "cell_type": "markdown",
   "metadata": {
    "slideshow": {
     "slide_type": "subslide"
    }
   },
   "source": [
    "リフレクションの機能がある言語ではメタ定義を参照できる定数ないしメソッドを提供している\n",
    "\n",
    "この機能を利用して実装した\n",
    "\n",
    "入出力の設計はコマンドラインベースで動くプログラムとした\n",
    "\n",
    "コマンドライン引数にはクラス名やjarファイル名を指定し、定数情報ないしメソッド情報のどちらの情報を一覧取得するかどうかのオプションを指定できるようにした\n",
    "\n",
    "パイプでつないだり、リダイレクトでファイル保存したり、データファイルとして他のミドルと連携しやすいように標準出力にはTSV形式で出力するようにした"
   ]
  },
  {
   "cell_type": "markdown",
   "metadata": {
    "slideshow": {
     "slide_type": "slide"
    }
   },
   "source": [
    "# プログラム名"
   ]
  },
  {
   "cell_type": "markdown",
   "metadata": {
    "slideshow": {
     "slide_type": "subslide"
    }
   },
   "source": [
    "jacdumpとjardumpを個人で作成した\n",
    "\n",
    "- [jacdump](https://github.com/ukijumotahaneniarukenia/jacdump)\n",
    "\n",
    "\n",
    "- [jardump](https://github.com/ukijumotahaneniarukenia/jardump)"
   ]
  },
  {
   "cell_type": "markdown",
   "metadata": {
    "slideshow": {
     "slide_type": "slide"
    }
   },
   "source": [
    "# 使い方"
   ]
  },
  {
   "cell_type": "markdown",
   "metadata": {
    "slideshow": {
     "slide_type": "subslide"
    }
   },
   "source": [
    "## jacdump"
   ]
  },
  {
   "cell_type": "markdown",
   "metadata": {
    "slideshow": {
     "slide_type": "subslide"
    }
   },
   "source": [
    "CMD\n",
    "\n",
    "```\n",
    "$ java -jar jacdump-2-0-0-SNAPSHOT-jar-with-dependencies.jar \n",
    "```\n",
    "\n",
    "OUT\n",
    "```\n",
    "Usageだよーん\n",
    "\n",
    "java -jar jacdump-2-0-0-SNAPSHOT-jar-with-dependencies.jar --method\n",
    "\n",
    "java -jar jacdump-2-0-0-SNAPSHOT-jar-with-dependencies.jar --list-up\n",
    "\n",
    "java -jar jacdump-2-0-0-SNAPSHOT-jar-with-dependencies.jar --method java.lang.ClassLoader java.lang.Thread\n",
    "\n",
    "java -jar jacdump-2-0-0-SNAPSHOT-jar-with-dependencies.jar --constant\n",
    "\n",
    "java -jar jacdump-2-0-0-SNAPSHOT-jar-with-dependencies.jar --constant java.lang.ClassLoader java.lang.Thread\n",
    "```"
   ]
  },
  {
   "cell_type": "markdown",
   "metadata": {
    "slideshow": {
     "slide_type": "subslide"
    }
   },
   "source": [
    "CMD\n",
    "\n",
    "インストールしたjdkに梱包されているクラスファイル名リストの一覧取得\n",
    "\n",
    "```\n",
    "$ java -jar jacdump-2-0-0-SNAPSHOT-jar-with-dependencies.jar --list-up | head | tr '/' '.'\n",
    "```\n",
    "\n",
    "OUT\n",
    "\n",
    "```\n",
    "java.io.BufferedInputStream\n",
    "java.io.BufferedOutputStream\n",
    "java.io.BufferedWriter\n",
    "java.io.ByteArrayInputStream\n",
    "java.io.ByteArrayOutputStream\n",
    "java.io.Closeable\n",
    "java.io.DataInput\n",
    "java.io.DataInputStream\n",
    "java.io.DataOutput\n",
    "java.io.DefaultFileSystem\n",
    "```"
   ]
  },
  {
   "cell_type": "markdown",
   "metadata": {
    "slideshow": {
     "slide_type": "subslide"
    }
   },
   "source": [
    "CMD\n",
    "\n",
    "標準エラー出力にクラスロード時ないし実行時の完了件数・スキップ件数を出力\n",
    "\n",
    "```\n",
    "$ java -jar jacdump-2-0-0-SNAPSHOT-jar-with-dependencies.jar --constant java.lang.Thread 1>/dev/null\n",
    "```\n",
    "\n",
    "OUT\n",
    "\n",
    "```\n",
    "classLoadDoneCnt\t1\n",
    "classLoadSkipCnt\t0\n",
    "classExecuteDoneCnt\t1\n",
    "classExecuteSkipCnt\t0\n",
    "\n",
    "classExecuteSkipList\t[]\n",
    "```"
   ]
  },
  {
   "cell_type": "markdown",
   "metadata": {
    "slideshow": {
     "slide_type": "subslide"
    }
   },
   "source": [
    "CMD\n",
    "\n",
    "標準出力にクラス情報を出力\n",
    "\n",
    "```\n",
    "$ java -jar jacdump-2-0-0-SNAPSHOT-jar-with-dependencies.jar  --constant java.lang.Thread 2>/dev/null | head\n",
    "```\n",
    "\n",
    "OUT\n",
    "\n",
    "```\n",
    "クラス名\t定数かメソッドか\tクラス番号\tクラスシーケンス番号\tクラス名\t定数名\n",
    "java.lang.Thread\tCCCCC\t00000001\t0001\tjava.lang.Thread\tNORM_PRIORITY\n",
    "java.lang.Thread\tCCCCC\t00000001\t0002\tjava.lang.Thread\tMAX_PRIORITY\n",
    "java.lang.Thread\tCCCCC\t00000001\t0003\tjava.lang.Thread\tMIN_PRIORITY\n",
    "```"
   ]
  },
  {
   "cell_type": "markdown",
   "metadata": {
    "slideshow": {
     "slide_type": "subslide"
    }
   },
   "source": [
    "CMD\n",
    "\n",
    "```\n",
    "$ java -jar jacdump-2-0-0-SNAPSHOT-jar-with-dependencies.jar --method java.lang.Thread 1>/dev/null\n",
    "```\n",
    "\n",
    "OUT\n",
    "\n",
    "```\n",
    "classLoadDoneCnt\t1\n",
    "classLoadSkipCnt\t0\n",
    "classExecuteDoneCnt\t1\n",
    "classExecuteSkipCnt\t0\n",
    "\n",
    "classExecuteSkipList\t[]\n",
    "```"
   ]
  },
  {
   "cell_type": "markdown",
   "metadata": {
    "slideshow": {
     "slide_type": "subslide"
    }
   },
   "source": [
    "CMD\n",
    "\n",
    "```\n",
    "$ java -jar jacdump-2-0-0-SNAPSHOT-jar-with-dependencies.jar  --method java.lang.Thread 2>/dev/null | head\n",
    "```\n",
    "\n",
    "OUT\n",
    "\n",
    "```\n",
    "クラス名\t定数かメソッドか\tクラス番号\tクラスシーケンス番号\tクラス名\tアクセス修飾子\t戻り値の型\tメソッド名\t可変長引数があるか\t引数の個数\t型パラメータリスト\t型パラメータ記号リスト\t引数の型リスト\t仮引数の変数名リスト\n",
    "java.lang.Thread\tMMMMM\t00000001\t0001\tjava.lang.Thread\tpublic final\tboolean\tisDaemon\tfalse\t0\t\t\t\t\n",
    "java.lang.Thread\tMMMMM\t00000001\t0002\tjava.lang.Thread\tpublic\tjava.lang.StackTraceElement[]\tgetStackTrace\tfalse\t0\t\t\t\t\n",
    "java.lang.Thread\tMMMMM\t00000001\t0003\tjava.lang.Thread\tpublic final\tvoid\tjoin\tfalse\t0\t\t\t\t\n",
    "java.lang.Thread\tMMMMM\t00000001\t0004\tjava.lang.Thread\tpublic final synchronized\tvoid\tjoin\tfalse\t2\t\t\tlong,int\targ0,arg1\n",
    "java.lang.Thread\tMMMMM\t00000001\t0005\tjava.lang.Thread\tpublic final synchronized\tvoid\tjoin\tfalse\t1\t\t\tlong\targ0\n",
    "java.lang.Thread\tMMMMM\t00000001\t0006\tjava.lang.Thread\tpublic\tboolean\tequals\tfalse\t1\t\t\tjava.lang.Object\targ0\n",
    "java.lang.Thread\tMMMMM\t00000001\t0007\tjava.lang.Thread\tpublic\tvoid\tinterrupt\tfalse\t0\t\t\t\t\n",
    "java.lang.Thread\tMMMMM\t00000001\t0008\tjava.lang.Thread\tpublic final\tjava.lang.String\tgetName\tfalse\t0\t\t\t\t\n",
    "java.lang.Thread\tMMMMM\t00000001\t0009\tjava.lang.Thread\tpublic\tvoid\tsetContextClassLoader\tfalse\t1\t\t\tjava.lang.ClassLoader\targ0\n",
    "```"
   ]
  },
  {
   "cell_type": "markdown",
   "metadata": {
    "slideshow": {
     "slide_type": "subslide"
    }
   },
   "source": [
    "## jardump"
   ]
  },
  {
   "cell_type": "markdown",
   "metadata": {
    "slideshow": {
     "slide_type": "subslide"
    }
   },
   "source": [
    "CMD\n",
    "\n",
    "```\n",
    "java -jar jardump-X-X-X-SNAPSHOT.jar\n",
    "```\n",
    "\n",
    "OUT\n",
    "```\n",
    "Usageだよーん\n",
    "java -jar jardump-X-X-X-SNAPSHOT.jar --maven\n",
    "or\n",
    "java -jar jardump-X-X-X-SNAPSHOT.jar --gradle\n",
    "or\n",
    "java -jar jardump-X-X-X-SNAPSHOT.jar --kotlin\n",
    "or\n",
    "java -jar jardump-X-X-X-SNAPSHOT.jar --scala\n",
    "or\n",
    "java -jar jardump-X-X-X-SNAPSHOT.jar --scala --method\n",
    "or\n",
    "java -jar jardump-X-X-X-SNAPSHOT.jar --scala --constant\n",
    "or\n",
    "java -jar jardump-X-X-X-SNAPSHOT.jar /home/aine/.m2/repository/org/jsoup/jsoup/1.10.2/jsoup-1.10.2.jar /home/aine/.m2/repository/org/apache/commons/commons-lang3/3.11/commons-lang3-3.11.jar\n",
    "or\n",
    "java -jar jardump-X-X-X-SNAPSHOT.jar /home/aine/.m2/repository/xmlpull/xmlpull/1.1.3.1/xmlpull-1.1.3.1.jar\n",
    "```"
   ]
  },
  {
   "cell_type": "markdown",
   "metadata": {
    "slideshow": {
     "slide_type": "subslide"
    }
   },
   "source": [
    "jacdumpと代替同じなので、割愛"
   ]
  },
  {
   "cell_type": "markdown",
   "metadata": {
    "slideshow": {
     "slide_type": "slide"
    }
   },
   "source": [
    "# ミドルと連携例\n",
    "\n",
    "jupyter notebookを例に"
   ]
  },
  {
   "cell_type": "markdown",
   "metadata": {
    "slideshow": {
     "slide_type": "slide"
    }
   },
   "source": [
    "## ライブラリインポート"
   ]
  },
  {
   "cell_type": "code",
   "execution_count": 1,
   "metadata": {
    "slideshow": {
     "slide_type": "subslide"
    }
   },
   "outputs": [],
   "source": [
    "import pandas as pd"
   ]
  },
  {
   "cell_type": "markdown",
   "metadata": {
    "slideshow": {
     "slide_type": "slide"
    }
   },
   "source": [
    "## 定数の場合"
   ]
  },
  {
   "cell_type": "markdown",
   "metadata": {
    "slideshow": {
     "slide_type": "slide"
    }
   },
   "source": [
    "### TSVファイルインポート"
   ]
  },
  {
   "cell_type": "code",
   "execution_count": 2,
   "metadata": {
    "slideshow": {
     "slide_type": "subslide"
    }
   },
   "outputs": [],
   "source": [
    "df_constant = pd.read_csv('java-lang-Thread-constant.tsv',sep='\\t')"
   ]
  },
  {
   "cell_type": "markdown",
   "metadata": {
    "slideshow": {
     "slide_type": "slide"
    }
   },
   "source": [
    "### データ俯瞰"
   ]
  },
  {
   "cell_type": "code",
   "execution_count": 3,
   "metadata": {
    "slideshow": {
     "slide_type": "subslide"
    }
   },
   "outputs": [
    {
     "data": {
      "text/html": [
       "<div>\n",
       "<style scoped>\n",
       "    .dataframe tbody tr th:only-of-type {\n",
       "        vertical-align: middle;\n",
       "    }\n",
       "\n",
       "    .dataframe tbody tr th {\n",
       "        vertical-align: top;\n",
       "    }\n",
       "\n",
       "    .dataframe thead th {\n",
       "        text-align: right;\n",
       "    }\n",
       "</style>\n",
       "<table border=\"1\" class=\"dataframe\">\n",
       "  <thead>\n",
       "    <tr style=\"text-align: right;\">\n",
       "      <th></th>\n",
       "      <th>クラス名</th>\n",
       "      <th>定数かメソッドか</th>\n",
       "      <th>クラス番号</th>\n",
       "      <th>クラスシーケンス番号</th>\n",
       "      <th>クラス名.1</th>\n",
       "      <th>定数名</th>\n",
       "    </tr>\n",
       "  </thead>\n",
       "  <tbody>\n",
       "    <tr>\n",
       "      <th>0</th>\n",
       "      <td>java.lang.Thread</td>\n",
       "      <td>CCCCC</td>\n",
       "      <td>1</td>\n",
       "      <td>1</td>\n",
       "      <td>java.lang.Thread</td>\n",
       "      <td>NORM_PRIORITY</td>\n",
       "    </tr>\n",
       "    <tr>\n",
       "      <th>1</th>\n",
       "      <td>java.lang.Thread</td>\n",
       "      <td>CCCCC</td>\n",
       "      <td>1</td>\n",
       "      <td>2</td>\n",
       "      <td>java.lang.Thread</td>\n",
       "      <td>MAX_PRIORITY</td>\n",
       "    </tr>\n",
       "    <tr>\n",
       "      <th>2</th>\n",
       "      <td>java.lang.Thread</td>\n",
       "      <td>CCCCC</td>\n",
       "      <td>1</td>\n",
       "      <td>3</td>\n",
       "      <td>java.lang.Thread</td>\n",
       "      <td>MIN_PRIORITY</td>\n",
       "    </tr>\n",
       "  </tbody>\n",
       "</table>\n",
       "</div>"
      ],
      "text/plain": [
       "               クラス名 定数かメソッドか  クラス番号  クラスシーケンス番号            クラス名.1  \\\n",
       "0  java.lang.Thread    CCCCC      1           1  java.lang.Thread   \n",
       "1  java.lang.Thread    CCCCC      1           2  java.lang.Thread   \n",
       "2  java.lang.Thread    CCCCC      1           3  java.lang.Thread   \n",
       "\n",
       "             定数名  \n",
       "0  NORM_PRIORITY  \n",
       "1   MAX_PRIORITY  \n",
       "2   MIN_PRIORITY  "
      ]
     },
     "execution_count": 3,
     "metadata": {},
     "output_type": "execute_result"
    }
   ],
   "source": [
    "df_constant.head(10)"
   ]
  },
  {
   "cell_type": "markdown",
   "metadata": {
    "slideshow": {
     "slide_type": "slide"
    }
   },
   "source": [
    "### データ型確認"
   ]
  },
  {
   "cell_type": "code",
   "execution_count": 4,
   "metadata": {
    "slideshow": {
     "slide_type": "subslide"
    }
   },
   "outputs": [
    {
     "data": {
      "text/html": [
       "<div>\n",
       "<style scoped>\n",
       "    .dataframe tbody tr th:only-of-type {\n",
       "        vertical-align: middle;\n",
       "    }\n",
       "\n",
       "    .dataframe tbody tr th {\n",
       "        vertical-align: top;\n",
       "    }\n",
       "\n",
       "    .dataframe thead th {\n",
       "        text-align: right;\n",
       "    }\n",
       "</style>\n",
       "<table border=\"1\" class=\"dataframe\">\n",
       "  <thead>\n",
       "    <tr style=\"text-align: right;\">\n",
       "      <th></th>\n",
       "      <th>columnName</th>\n",
       "    </tr>\n",
       "  </thead>\n",
       "  <tbody>\n",
       "    <tr>\n",
       "      <th>クラス名</th>\n",
       "      <td>object</td>\n",
       "    </tr>\n",
       "    <tr>\n",
       "      <th>定数かメソッドか</th>\n",
       "      <td>object</td>\n",
       "    </tr>\n",
       "    <tr>\n",
       "      <th>クラス番号</th>\n",
       "      <td>int64</td>\n",
       "    </tr>\n",
       "    <tr>\n",
       "      <th>クラスシーケンス番号</th>\n",
       "      <td>int64</td>\n",
       "    </tr>\n",
       "    <tr>\n",
       "      <th>クラス名.1</th>\n",
       "      <td>object</td>\n",
       "    </tr>\n",
       "    <tr>\n",
       "      <th>定数名</th>\n",
       "      <td>object</td>\n",
       "    </tr>\n",
       "  </tbody>\n",
       "</table>\n",
       "</div>"
      ],
      "text/plain": [
       "           columnName\n",
       "クラス名           object\n",
       "定数かメソッドか       object\n",
       "クラス番号           int64\n",
       "クラスシーケンス番号      int64\n",
       "クラス名.1         object\n",
       "定数名            object"
      ]
     },
     "execution_count": 4,
     "metadata": {},
     "output_type": "execute_result"
    }
   ],
   "source": [
    "pd.DataFrame(df_constant.dtypes,columns=[\"columnName\"])"
   ]
  },
  {
   "cell_type": "markdown",
   "metadata": {
    "slideshow": {
     "slide_type": "slide"
    }
   },
   "source": [
    "### 抽出条件を指定して取得"
   ]
  },
  {
   "cell_type": "markdown",
   "metadata": {
    "slideshow": {
     "slide_type": "slide"
    }
   },
   "source": [
    "#### 取得列リストを指定して取得"
   ]
  },
  {
   "cell_type": "code",
   "execution_count": 5,
   "metadata": {
    "slideshow": {
     "slide_type": "subslide"
    }
   },
   "outputs": [
    {
     "data": {
      "text/html": [
       "<div>\n",
       "<style scoped>\n",
       "    .dataframe tbody tr th:only-of-type {\n",
       "        vertical-align: middle;\n",
       "    }\n",
       "\n",
       "    .dataframe tbody tr th {\n",
       "        vertical-align: top;\n",
       "    }\n",
       "\n",
       "    .dataframe thead th {\n",
       "        text-align: right;\n",
       "    }\n",
       "</style>\n",
       "<table border=\"1\" class=\"dataframe\">\n",
       "  <thead>\n",
       "    <tr style=\"text-align: right;\">\n",
       "      <th></th>\n",
       "      <th>クラス名</th>\n",
       "      <th>定数名</th>\n",
       "    </tr>\n",
       "  </thead>\n",
       "  <tbody>\n",
       "    <tr>\n",
       "      <th>0</th>\n",
       "      <td>java.lang.Thread</td>\n",
       "      <td>NORM_PRIORITY</td>\n",
       "    </tr>\n",
       "    <tr>\n",
       "      <th>1</th>\n",
       "      <td>java.lang.Thread</td>\n",
       "      <td>MAX_PRIORITY</td>\n",
       "    </tr>\n",
       "    <tr>\n",
       "      <th>2</th>\n",
       "      <td>java.lang.Thread</td>\n",
       "      <td>MIN_PRIORITY</td>\n",
       "    </tr>\n",
       "  </tbody>\n",
       "</table>\n",
       "</div>"
      ],
      "text/plain": [
       "               クラス名            定数名\n",
       "0  java.lang.Thread  NORM_PRIORITY\n",
       "1  java.lang.Thread   MAX_PRIORITY\n",
       "2  java.lang.Thread   MIN_PRIORITY"
      ]
     },
     "execution_count": 5,
     "metadata": {},
     "output_type": "execute_result"
    }
   ],
   "source": [
    "df_constant[['クラス名','定数名']]"
   ]
  },
  {
   "cell_type": "markdown",
   "metadata": {
    "slideshow": {
     "slide_type": "slide"
    }
   },
   "source": [
    "#### 定数名が先頭Mで始まる一覧を取得"
   ]
  },
  {
   "cell_type": "code",
   "execution_count": 6,
   "metadata": {
    "scrolled": true,
    "slideshow": {
     "slide_type": "subslide"
    }
   },
   "outputs": [
    {
     "data": {
      "text/html": [
       "<div>\n",
       "<style scoped>\n",
       "    .dataframe tbody tr th:only-of-type {\n",
       "        vertical-align: middle;\n",
       "    }\n",
       "\n",
       "    .dataframe tbody tr th {\n",
       "        vertical-align: top;\n",
       "    }\n",
       "\n",
       "    .dataframe thead th {\n",
       "        text-align: right;\n",
       "    }\n",
       "</style>\n",
       "<table border=\"1\" class=\"dataframe\">\n",
       "  <thead>\n",
       "    <tr style=\"text-align: right;\">\n",
       "      <th></th>\n",
       "      <th>クラス名</th>\n",
       "      <th>定数かメソッドか</th>\n",
       "      <th>クラス番号</th>\n",
       "      <th>クラスシーケンス番号</th>\n",
       "      <th>クラス名.1</th>\n",
       "      <th>定数名</th>\n",
       "    </tr>\n",
       "  </thead>\n",
       "  <tbody>\n",
       "    <tr>\n",
       "      <th>1</th>\n",
       "      <td>java.lang.Thread</td>\n",
       "      <td>CCCCC</td>\n",
       "      <td>1</td>\n",
       "      <td>2</td>\n",
       "      <td>java.lang.Thread</td>\n",
       "      <td>MAX_PRIORITY</td>\n",
       "    </tr>\n",
       "    <tr>\n",
       "      <th>2</th>\n",
       "      <td>java.lang.Thread</td>\n",
       "      <td>CCCCC</td>\n",
       "      <td>1</td>\n",
       "      <td>3</td>\n",
       "      <td>java.lang.Thread</td>\n",
       "      <td>MIN_PRIORITY</td>\n",
       "    </tr>\n",
       "  </tbody>\n",
       "</table>\n",
       "</div>"
      ],
      "text/plain": [
       "               クラス名 定数かメソッドか  クラス番号  クラスシーケンス番号            クラス名.1  \\\n",
       "1  java.lang.Thread    CCCCC      1           2  java.lang.Thread   \n",
       "2  java.lang.Thread    CCCCC      1           3  java.lang.Thread   \n",
       "\n",
       "            定数名  \n",
       "1  MAX_PRIORITY  \n",
       "2  MIN_PRIORITY  "
      ]
     },
     "execution_count": 6,
     "metadata": {},
     "output_type": "execute_result"
    }
   ],
   "source": [
    "df_constant[df_constant['定数名'].str.contains('^M', regex=True)]"
   ]
  },
  {
   "cell_type": "markdown",
   "metadata": {
    "slideshow": {
     "slide_type": "slide"
    }
   },
   "source": [
    "#### 定数名が先頭Mで始まらない一覧を取得"
   ]
  },
  {
   "cell_type": "code",
   "execution_count": 7,
   "metadata": {
    "slideshow": {
     "slide_type": "subslide"
    }
   },
   "outputs": [
    {
     "data": {
      "text/html": [
       "<div>\n",
       "<style scoped>\n",
       "    .dataframe tbody tr th:only-of-type {\n",
       "        vertical-align: middle;\n",
       "    }\n",
       "\n",
       "    .dataframe tbody tr th {\n",
       "        vertical-align: top;\n",
       "    }\n",
       "\n",
       "    .dataframe thead th {\n",
       "        text-align: right;\n",
       "    }\n",
       "</style>\n",
       "<table border=\"1\" class=\"dataframe\">\n",
       "  <thead>\n",
       "    <tr style=\"text-align: right;\">\n",
       "      <th></th>\n",
       "      <th>クラス名</th>\n",
       "      <th>定数かメソッドか</th>\n",
       "      <th>クラス番号</th>\n",
       "      <th>クラスシーケンス番号</th>\n",
       "      <th>クラス名.1</th>\n",
       "      <th>定数名</th>\n",
       "    </tr>\n",
       "  </thead>\n",
       "  <tbody>\n",
       "    <tr>\n",
       "      <th>0</th>\n",
       "      <td>java.lang.Thread</td>\n",
       "      <td>CCCCC</td>\n",
       "      <td>1</td>\n",
       "      <td>1</td>\n",
       "      <td>java.lang.Thread</td>\n",
       "      <td>NORM_PRIORITY</td>\n",
       "    </tr>\n",
       "  </tbody>\n",
       "</table>\n",
       "</div>"
      ],
      "text/plain": [
       "               クラス名 定数かメソッドか  クラス番号  クラスシーケンス番号            クラス名.1  \\\n",
       "0  java.lang.Thread    CCCCC      1           1  java.lang.Thread   \n",
       "\n",
       "             定数名  \n",
       "0  NORM_PRIORITY  "
      ]
     },
     "execution_count": 7,
     "metadata": {},
     "output_type": "execute_result"
    }
   ],
   "source": [
    "df_constant[ ~ df_constant['定数名'].str.contains('^M', regex=True)]"
   ]
  },
  {
   "cell_type": "markdown",
   "metadata": {
    "slideshow": {
     "slide_type": "slide"
    }
   },
   "source": [
    "## メソッドの場合"
   ]
  },
  {
   "cell_type": "markdown",
   "metadata": {
    "slideshow": {
     "slide_type": "slide"
    }
   },
   "source": [
    "### TSVファイルインポート"
   ]
  },
  {
   "cell_type": "code",
   "execution_count": 8,
   "metadata": {
    "slideshow": {
     "slide_type": "subslide"
    }
   },
   "outputs": [],
   "source": [
    "df_method = pd.read_csv('java-lang-Thread-method.tsv',sep='\\t')"
   ]
  },
  {
   "cell_type": "markdown",
   "metadata": {
    "slideshow": {
     "slide_type": "slide"
    }
   },
   "source": [
    "### データ俯瞰"
   ]
  },
  {
   "cell_type": "code",
   "execution_count": 9,
   "metadata": {
    "slideshow": {
     "slide_type": "subslide"
    }
   },
   "outputs": [
    {
     "data": {
      "text/html": [
       "<div>\n",
       "<style scoped>\n",
       "    .dataframe tbody tr th:only-of-type {\n",
       "        vertical-align: middle;\n",
       "    }\n",
       "\n",
       "    .dataframe tbody tr th {\n",
       "        vertical-align: top;\n",
       "    }\n",
       "\n",
       "    .dataframe thead th {\n",
       "        text-align: right;\n",
       "    }\n",
       "</style>\n",
       "<table border=\"1\" class=\"dataframe\">\n",
       "  <thead>\n",
       "    <tr style=\"text-align: right;\">\n",
       "      <th></th>\n",
       "      <th>クラス名</th>\n",
       "      <th>定数かメソッドか</th>\n",
       "      <th>クラス番号</th>\n",
       "      <th>クラスシーケンス番号</th>\n",
       "      <th>クラス名.1</th>\n",
       "      <th>アクセス修飾子</th>\n",
       "      <th>戻り値の型</th>\n",
       "      <th>メソッド名</th>\n",
       "      <th>可変長引数があるか</th>\n",
       "      <th>引数の個数</th>\n",
       "      <th>型パラメータリスト</th>\n",
       "      <th>型パラメータ記号リスト</th>\n",
       "      <th>引数の型リスト</th>\n",
       "      <th>仮引数の変数名リスト</th>\n",
       "    </tr>\n",
       "  </thead>\n",
       "  <tbody>\n",
       "    <tr>\n",
       "      <th>0</th>\n",
       "      <td>java.lang.Thread</td>\n",
       "      <td>MMMMM</td>\n",
       "      <td>1</td>\n",
       "      <td>1</td>\n",
       "      <td>java.lang.Thread</td>\n",
       "      <td>public final</td>\n",
       "      <td>boolean</td>\n",
       "      <td>isDaemon</td>\n",
       "      <td>False</td>\n",
       "      <td>0</td>\n",
       "      <td>NaN</td>\n",
       "      <td>NaN</td>\n",
       "      <td>NaN</td>\n",
       "      <td>NaN</td>\n",
       "    </tr>\n",
       "    <tr>\n",
       "      <th>1</th>\n",
       "      <td>java.lang.Thread</td>\n",
       "      <td>MMMMM</td>\n",
       "      <td>1</td>\n",
       "      <td>2</td>\n",
       "      <td>java.lang.Thread</td>\n",
       "      <td>public</td>\n",
       "      <td>java.lang.StackTraceElement[]</td>\n",
       "      <td>getStackTrace</td>\n",
       "      <td>False</td>\n",
       "      <td>0</td>\n",
       "      <td>NaN</td>\n",
       "      <td>NaN</td>\n",
       "      <td>NaN</td>\n",
       "      <td>NaN</td>\n",
       "    </tr>\n",
       "    <tr>\n",
       "      <th>2</th>\n",
       "      <td>java.lang.Thread</td>\n",
       "      <td>MMMMM</td>\n",
       "      <td>1</td>\n",
       "      <td>3</td>\n",
       "      <td>java.lang.Thread</td>\n",
       "      <td>public final</td>\n",
       "      <td>void</td>\n",
       "      <td>join</td>\n",
       "      <td>False</td>\n",
       "      <td>0</td>\n",
       "      <td>NaN</td>\n",
       "      <td>NaN</td>\n",
       "      <td>NaN</td>\n",
       "      <td>NaN</td>\n",
       "    </tr>\n",
       "    <tr>\n",
       "      <th>3</th>\n",
       "      <td>java.lang.Thread</td>\n",
       "      <td>MMMMM</td>\n",
       "      <td>1</td>\n",
       "      <td>4</td>\n",
       "      <td>java.lang.Thread</td>\n",
       "      <td>public final synchronized</td>\n",
       "      <td>void</td>\n",
       "      <td>join</td>\n",
       "      <td>False</td>\n",
       "      <td>2</td>\n",
       "      <td>NaN</td>\n",
       "      <td>NaN</td>\n",
       "      <td>long,int</td>\n",
       "      <td>arg0,arg1</td>\n",
       "    </tr>\n",
       "    <tr>\n",
       "      <th>4</th>\n",
       "      <td>java.lang.Thread</td>\n",
       "      <td>MMMMM</td>\n",
       "      <td>1</td>\n",
       "      <td>5</td>\n",
       "      <td>java.lang.Thread</td>\n",
       "      <td>public final synchronized</td>\n",
       "      <td>void</td>\n",
       "      <td>join</td>\n",
       "      <td>False</td>\n",
       "      <td>1</td>\n",
       "      <td>NaN</td>\n",
       "      <td>NaN</td>\n",
       "      <td>long</td>\n",
       "      <td>arg0</td>\n",
       "    </tr>\n",
       "    <tr>\n",
       "      <th>5</th>\n",
       "      <td>java.lang.Thread</td>\n",
       "      <td>MMMMM</td>\n",
       "      <td>1</td>\n",
       "      <td>6</td>\n",
       "      <td>java.lang.Thread</td>\n",
       "      <td>public</td>\n",
       "      <td>boolean</td>\n",
       "      <td>equals</td>\n",
       "      <td>False</td>\n",
       "      <td>1</td>\n",
       "      <td>NaN</td>\n",
       "      <td>NaN</td>\n",
       "      <td>java.lang.Object</td>\n",
       "      <td>arg0</td>\n",
       "    </tr>\n",
       "    <tr>\n",
       "      <th>6</th>\n",
       "      <td>java.lang.Thread</td>\n",
       "      <td>MMMMM</td>\n",
       "      <td>1</td>\n",
       "      <td>7</td>\n",
       "      <td>java.lang.Thread</td>\n",
       "      <td>public</td>\n",
       "      <td>void</td>\n",
       "      <td>interrupt</td>\n",
       "      <td>False</td>\n",
       "      <td>0</td>\n",
       "      <td>NaN</td>\n",
       "      <td>NaN</td>\n",
       "      <td>NaN</td>\n",
       "      <td>NaN</td>\n",
       "    </tr>\n",
       "    <tr>\n",
       "      <th>7</th>\n",
       "      <td>java.lang.Thread</td>\n",
       "      <td>MMMMM</td>\n",
       "      <td>1</td>\n",
       "      <td>8</td>\n",
       "      <td>java.lang.Thread</td>\n",
       "      <td>public final</td>\n",
       "      <td>java.lang.String</td>\n",
       "      <td>getName</td>\n",
       "      <td>False</td>\n",
       "      <td>0</td>\n",
       "      <td>NaN</td>\n",
       "      <td>NaN</td>\n",
       "      <td>NaN</td>\n",
       "      <td>NaN</td>\n",
       "    </tr>\n",
       "    <tr>\n",
       "      <th>8</th>\n",
       "      <td>java.lang.Thread</td>\n",
       "      <td>MMMMM</td>\n",
       "      <td>1</td>\n",
       "      <td>9</td>\n",
       "      <td>java.lang.Thread</td>\n",
       "      <td>public</td>\n",
       "      <td>void</td>\n",
       "      <td>setContextClassLoader</td>\n",
       "      <td>False</td>\n",
       "      <td>1</td>\n",
       "      <td>NaN</td>\n",
       "      <td>NaN</td>\n",
       "      <td>java.lang.ClassLoader</td>\n",
       "      <td>arg0</td>\n",
       "    </tr>\n",
       "    <tr>\n",
       "      <th>9</th>\n",
       "      <td>java.lang.Thread</td>\n",
       "      <td>MMMMM</td>\n",
       "      <td>1</td>\n",
       "      <td>10</td>\n",
       "      <td>java.lang.Thread</td>\n",
       "      <td>public</td>\n",
       "      <td>void</td>\n",
       "      <td>run</td>\n",
       "      <td>False</td>\n",
       "      <td>0</td>\n",
       "      <td>NaN</td>\n",
       "      <td>NaN</td>\n",
       "      <td>NaN</td>\n",
       "      <td>NaN</td>\n",
       "    </tr>\n",
       "  </tbody>\n",
       "</table>\n",
       "</div>"
      ],
      "text/plain": [
       "               クラス名 定数かメソッドか  クラス番号  クラスシーケンス番号            クラス名.1  \\\n",
       "0  java.lang.Thread    MMMMM      1           1  java.lang.Thread   \n",
       "1  java.lang.Thread    MMMMM      1           2  java.lang.Thread   \n",
       "2  java.lang.Thread    MMMMM      1           3  java.lang.Thread   \n",
       "3  java.lang.Thread    MMMMM      1           4  java.lang.Thread   \n",
       "4  java.lang.Thread    MMMMM      1           5  java.lang.Thread   \n",
       "5  java.lang.Thread    MMMMM      1           6  java.lang.Thread   \n",
       "6  java.lang.Thread    MMMMM      1           7  java.lang.Thread   \n",
       "7  java.lang.Thread    MMMMM      1           8  java.lang.Thread   \n",
       "8  java.lang.Thread    MMMMM      1           9  java.lang.Thread   \n",
       "9  java.lang.Thread    MMMMM      1          10  java.lang.Thread   \n",
       "\n",
       "                     アクセス修飾子                          戻り値の型  \\\n",
       "0               public final                        boolean   \n",
       "1                     public  java.lang.StackTraceElement[]   \n",
       "2               public final                           void   \n",
       "3  public final synchronized                           void   \n",
       "4  public final synchronized                           void   \n",
       "5                     public                        boolean   \n",
       "6                     public                           void   \n",
       "7               public final               java.lang.String   \n",
       "8                     public                           void   \n",
       "9                     public                           void   \n",
       "\n",
       "                   メソッド名  可変長引数があるか  引数の個数  型パラメータリスト  型パラメータ記号リスト  \\\n",
       "0               isDaemon      False      0        NaN          NaN   \n",
       "1          getStackTrace      False      0        NaN          NaN   \n",
       "2                   join      False      0        NaN          NaN   \n",
       "3                   join      False      2        NaN          NaN   \n",
       "4                   join      False      1        NaN          NaN   \n",
       "5                 equals      False      1        NaN          NaN   \n",
       "6              interrupt      False      0        NaN          NaN   \n",
       "7                getName      False      0        NaN          NaN   \n",
       "8  setContextClassLoader      False      1        NaN          NaN   \n",
       "9                    run      False      0        NaN          NaN   \n",
       "\n",
       "                 引数の型リスト 仮引数の変数名リスト  \n",
       "0                    NaN        NaN  \n",
       "1                    NaN        NaN  \n",
       "2                    NaN        NaN  \n",
       "3               long,int  arg0,arg1  \n",
       "4                   long       arg0  \n",
       "5       java.lang.Object       arg0  \n",
       "6                    NaN        NaN  \n",
       "7                    NaN        NaN  \n",
       "8  java.lang.ClassLoader       arg0  \n",
       "9                    NaN        NaN  "
      ]
     },
     "execution_count": 9,
     "metadata": {},
     "output_type": "execute_result"
    }
   ],
   "source": [
    "df_method.head(10)"
   ]
  },
  {
   "cell_type": "markdown",
   "metadata": {
    "slideshow": {
     "slide_type": "slide"
    }
   },
   "source": [
    "### データ型確認"
   ]
  },
  {
   "cell_type": "code",
   "execution_count": 10,
   "metadata": {
    "scrolled": true,
    "slideshow": {
     "slide_type": "subslide"
    }
   },
   "outputs": [
    {
     "data": {
      "text/html": [
       "<div>\n",
       "<style scoped>\n",
       "    .dataframe tbody tr th:only-of-type {\n",
       "        vertical-align: middle;\n",
       "    }\n",
       "\n",
       "    .dataframe tbody tr th {\n",
       "        vertical-align: top;\n",
       "    }\n",
       "\n",
       "    .dataframe thead th {\n",
       "        text-align: right;\n",
       "    }\n",
       "</style>\n",
       "<table border=\"1\" class=\"dataframe\">\n",
       "  <thead>\n",
       "    <tr style=\"text-align: right;\">\n",
       "      <th></th>\n",
       "      <th>columnName</th>\n",
       "    </tr>\n",
       "  </thead>\n",
       "  <tbody>\n",
       "    <tr>\n",
       "      <th>クラス名</th>\n",
       "      <td>object</td>\n",
       "    </tr>\n",
       "    <tr>\n",
       "      <th>定数かメソッドか</th>\n",
       "      <td>object</td>\n",
       "    </tr>\n",
       "    <tr>\n",
       "      <th>クラス番号</th>\n",
       "      <td>int64</td>\n",
       "    </tr>\n",
       "    <tr>\n",
       "      <th>クラスシーケンス番号</th>\n",
       "      <td>int64</td>\n",
       "    </tr>\n",
       "    <tr>\n",
       "      <th>クラス名.1</th>\n",
       "      <td>object</td>\n",
       "    </tr>\n",
       "    <tr>\n",
       "      <th>アクセス修飾子</th>\n",
       "      <td>object</td>\n",
       "    </tr>\n",
       "    <tr>\n",
       "      <th>戻り値の型</th>\n",
       "      <td>object</td>\n",
       "    </tr>\n",
       "    <tr>\n",
       "      <th>メソッド名</th>\n",
       "      <td>object</td>\n",
       "    </tr>\n",
       "    <tr>\n",
       "      <th>可変長引数があるか</th>\n",
       "      <td>bool</td>\n",
       "    </tr>\n",
       "    <tr>\n",
       "      <th>引数の個数</th>\n",
       "      <td>int64</td>\n",
       "    </tr>\n",
       "    <tr>\n",
       "      <th>型パラメータリスト</th>\n",
       "      <td>float64</td>\n",
       "    </tr>\n",
       "    <tr>\n",
       "      <th>型パラメータ記号リスト</th>\n",
       "      <td>float64</td>\n",
       "    </tr>\n",
       "    <tr>\n",
       "      <th>引数の型リスト</th>\n",
       "      <td>object</td>\n",
       "    </tr>\n",
       "    <tr>\n",
       "      <th>仮引数の変数名リスト</th>\n",
       "      <td>object</td>\n",
       "    </tr>\n",
       "  </tbody>\n",
       "</table>\n",
       "</div>"
      ],
      "text/plain": [
       "            columnName\n",
       "クラス名            object\n",
       "定数かメソッドか        object\n",
       "クラス番号            int64\n",
       "クラスシーケンス番号       int64\n",
       "クラス名.1          object\n",
       "アクセス修飾子         object\n",
       "戻り値の型           object\n",
       "メソッド名           object\n",
       "可変長引数があるか         bool\n",
       "引数の個数            int64\n",
       "型パラメータリスト      float64\n",
       "型パラメータ記号リスト    float64\n",
       "引数の型リスト         object\n",
       "仮引数の変数名リスト      object"
      ]
     },
     "execution_count": 10,
     "metadata": {},
     "output_type": "execute_result"
    }
   ],
   "source": [
    "pd.DataFrame(df_method.dtypes,columns=[\"columnName\"])"
   ]
  },
  {
   "cell_type": "markdown",
   "metadata": {
    "slideshow": {
     "slide_type": "slide"
    }
   },
   "source": [
    "### 抽出条件を指定して取得"
   ]
  },
  {
   "cell_type": "markdown",
   "metadata": {
    "slideshow": {
     "slide_type": "slide"
    }
   },
   "source": [
    "#### 取得列リストを指定して取得"
   ]
  },
  {
   "cell_type": "code",
   "execution_count": 11,
   "metadata": {
    "scrolled": true,
    "slideshow": {
     "slide_type": "subslide"
    }
   },
   "outputs": [
    {
     "data": {
      "text/html": [
       "<div>\n",
       "<style scoped>\n",
       "    .dataframe tbody tr th:only-of-type {\n",
       "        vertical-align: middle;\n",
       "    }\n",
       "\n",
       "    .dataframe tbody tr th {\n",
       "        vertical-align: top;\n",
       "    }\n",
       "\n",
       "    .dataframe thead th {\n",
       "        text-align: right;\n",
       "    }\n",
       "</style>\n",
       "<table border=\"1\" class=\"dataframe\">\n",
       "  <thead>\n",
       "    <tr style=\"text-align: right;\">\n",
       "      <th></th>\n",
       "      <th>クラス名</th>\n",
       "      <th>メソッド名</th>\n",
       "      <th>戻り値の型</th>\n",
       "      <th>引数の個数</th>\n",
       "      <th>引数の型リスト</th>\n",
       "    </tr>\n",
       "  </thead>\n",
       "  <tbody>\n",
       "    <tr>\n",
       "      <th>0</th>\n",
       "      <td>java.lang.Thread</td>\n",
       "      <td>isDaemon</td>\n",
       "      <td>boolean</td>\n",
       "      <td>0</td>\n",
       "      <td>NaN</td>\n",
       "    </tr>\n",
       "    <tr>\n",
       "      <th>1</th>\n",
       "      <td>java.lang.Thread</td>\n",
       "      <td>getStackTrace</td>\n",
       "      <td>java.lang.StackTraceElement[]</td>\n",
       "      <td>0</td>\n",
       "      <td>NaN</td>\n",
       "    </tr>\n",
       "    <tr>\n",
       "      <th>2</th>\n",
       "      <td>java.lang.Thread</td>\n",
       "      <td>join</td>\n",
       "      <td>void</td>\n",
       "      <td>0</td>\n",
       "      <td>NaN</td>\n",
       "    </tr>\n",
       "    <tr>\n",
       "      <th>3</th>\n",
       "      <td>java.lang.Thread</td>\n",
       "      <td>join</td>\n",
       "      <td>void</td>\n",
       "      <td>2</td>\n",
       "      <td>long,int</td>\n",
       "    </tr>\n",
       "    <tr>\n",
       "      <th>4</th>\n",
       "      <td>java.lang.Thread</td>\n",
       "      <td>join</td>\n",
       "      <td>void</td>\n",
       "      <td>1</td>\n",
       "      <td>long</td>\n",
       "    </tr>\n",
       "    <tr>\n",
       "      <th>5</th>\n",
       "      <td>java.lang.Thread</td>\n",
       "      <td>equals</td>\n",
       "      <td>boolean</td>\n",
       "      <td>1</td>\n",
       "      <td>java.lang.Object</td>\n",
       "    </tr>\n",
       "    <tr>\n",
       "      <th>6</th>\n",
       "      <td>java.lang.Thread</td>\n",
       "      <td>interrupt</td>\n",
       "      <td>void</td>\n",
       "      <td>0</td>\n",
       "      <td>NaN</td>\n",
       "    </tr>\n",
       "    <tr>\n",
       "      <th>7</th>\n",
       "      <td>java.lang.Thread</td>\n",
       "      <td>getName</td>\n",
       "      <td>java.lang.String</td>\n",
       "      <td>0</td>\n",
       "      <td>NaN</td>\n",
       "    </tr>\n",
       "    <tr>\n",
       "      <th>8</th>\n",
       "      <td>java.lang.Thread</td>\n",
       "      <td>setContextClassLoader</td>\n",
       "      <td>void</td>\n",
       "      <td>1</td>\n",
       "      <td>java.lang.ClassLoader</td>\n",
       "    </tr>\n",
       "    <tr>\n",
       "      <th>9</th>\n",
       "      <td>java.lang.Thread</td>\n",
       "      <td>run</td>\n",
       "      <td>void</td>\n",
       "      <td>0</td>\n",
       "      <td>NaN</td>\n",
       "    </tr>\n",
       "  </tbody>\n",
       "</table>\n",
       "</div>"
      ],
      "text/plain": [
       "               クラス名                  メソッド名                          戻り値の型  \\\n",
       "0  java.lang.Thread               isDaemon                        boolean   \n",
       "1  java.lang.Thread          getStackTrace  java.lang.StackTraceElement[]   \n",
       "2  java.lang.Thread                   join                           void   \n",
       "3  java.lang.Thread                   join                           void   \n",
       "4  java.lang.Thread                   join                           void   \n",
       "5  java.lang.Thread                 equals                        boolean   \n",
       "6  java.lang.Thread              interrupt                           void   \n",
       "7  java.lang.Thread                getName               java.lang.String   \n",
       "8  java.lang.Thread  setContextClassLoader                           void   \n",
       "9  java.lang.Thread                    run                           void   \n",
       "\n",
       "   引数の個数                引数の型リスト  \n",
       "0      0                    NaN  \n",
       "1      0                    NaN  \n",
       "2      0                    NaN  \n",
       "3      2               long,int  \n",
       "4      1                   long  \n",
       "5      1       java.lang.Object  \n",
       "6      0                    NaN  \n",
       "7      0                    NaN  \n",
       "8      1  java.lang.ClassLoader  \n",
       "9      0                    NaN  "
      ]
     },
     "execution_count": 11,
     "metadata": {},
     "output_type": "execute_result"
    }
   ],
   "source": [
    "df_method[['クラス名','メソッド名','戻り値の型','引数の個数','引数の型リスト']].head(10)"
   ]
  },
  {
   "cell_type": "markdown",
   "metadata": {
    "slideshow": {
     "slide_type": "slide"
    }
   },
   "source": [
    "#### 引数の個数が0個かつ戻り値の型がjava.lang.Stringの一覧を取得"
   ]
  },
  {
   "cell_type": "code",
   "execution_count": 12,
   "metadata": {
    "slideshow": {
     "slide_type": "subslide"
    }
   },
   "outputs": [
    {
     "data": {
      "text/html": [
       "<div>\n",
       "<style scoped>\n",
       "    .dataframe tbody tr th:only-of-type {\n",
       "        vertical-align: middle;\n",
       "    }\n",
       "\n",
       "    .dataframe tbody tr th {\n",
       "        vertical-align: top;\n",
       "    }\n",
       "\n",
       "    .dataframe thead th {\n",
       "        text-align: right;\n",
       "    }\n",
       "</style>\n",
       "<table border=\"1\" class=\"dataframe\">\n",
       "  <thead>\n",
       "    <tr style=\"text-align: right;\">\n",
       "      <th></th>\n",
       "      <th>クラス名</th>\n",
       "      <th>定数かメソッドか</th>\n",
       "      <th>クラス番号</th>\n",
       "      <th>クラスシーケンス番号</th>\n",
       "      <th>クラス名.1</th>\n",
       "      <th>アクセス修飾子</th>\n",
       "      <th>戻り値の型</th>\n",
       "      <th>メソッド名</th>\n",
       "      <th>可変長引数があるか</th>\n",
       "      <th>引数の個数</th>\n",
       "      <th>型パラメータリスト</th>\n",
       "      <th>型パラメータ記号リスト</th>\n",
       "      <th>引数の型リスト</th>\n",
       "      <th>仮引数の変数名リスト</th>\n",
       "    </tr>\n",
       "  </thead>\n",
       "  <tbody>\n",
       "    <tr>\n",
       "      <th>7</th>\n",
       "      <td>java.lang.Thread</td>\n",
       "      <td>MMMMM</td>\n",
       "      <td>1</td>\n",
       "      <td>8</td>\n",
       "      <td>java.lang.Thread</td>\n",
       "      <td>public final</td>\n",
       "      <td>java.lang.String</td>\n",
       "      <td>getName</td>\n",
       "      <td>False</td>\n",
       "      <td>0</td>\n",
       "      <td>NaN</td>\n",
       "      <td>NaN</td>\n",
       "      <td>NaN</td>\n",
       "      <td>NaN</td>\n",
       "    </tr>\n",
       "    <tr>\n",
       "      <th>39</th>\n",
       "      <td>java.lang.Thread</td>\n",
       "      <td>MMMMM</td>\n",
       "      <td>1</td>\n",
       "      <td>40</td>\n",
       "      <td>java.lang.Thread</td>\n",
       "      <td>public</td>\n",
       "      <td>java.lang.String</td>\n",
       "      <td>toString</td>\n",
       "      <td>False</td>\n",
       "      <td>0</td>\n",
       "      <td>NaN</td>\n",
       "      <td>NaN</td>\n",
       "      <td>NaN</td>\n",
       "      <td>NaN</td>\n",
       "    </tr>\n",
       "  </tbody>\n",
       "</table>\n",
       "</div>"
      ],
      "text/plain": [
       "                クラス名 定数かメソッドか  クラス番号  クラスシーケンス番号            クラス名.1  \\\n",
       "7   java.lang.Thread    MMMMM      1           8  java.lang.Thread   \n",
       "39  java.lang.Thread    MMMMM      1          40  java.lang.Thread   \n",
       "\n",
       "         アクセス修飾子             戻り値の型     メソッド名  可変長引数があるか  引数の個数  型パラメータリスト  \\\n",
       "7   public final  java.lang.String   getName      False      0        NaN   \n",
       "39        public  java.lang.String  toString      False      0        NaN   \n",
       "\n",
       "    型パラメータ記号リスト 引数の型リスト 仮引数の変数名リスト  \n",
       "7           NaN     NaN        NaN  \n",
       "39          NaN     NaN        NaN  "
      ]
     },
     "execution_count": 12,
     "metadata": {},
     "output_type": "execute_result"
    }
   ],
   "source": [
    "df_method[(df_method['引数の個数']==0) & (df_method['戻り値の型']=='java.lang.String')]"
   ]
  },
  {
   "cell_type": "markdown",
   "metadata": {
    "slideshow": {
     "slide_type": "slide"
    }
   },
   "source": [
    "# 応用"
   ]
  },
  {
   "cell_type": "markdown",
   "metadata": {
    "slideshow": {
     "slide_type": "subslide"
    }
   },
   "source": [
    "androidなどのネイティブアプリはapkファイルで配布されているがjarファイルに変換できるコマンドがある\n",
    "\n",
    "- [dex2jar](https://github.com/pxb1988/dex2jar)\n",
    "\n",
    "jarファイルになれば、アプリが使用しているライブラリ等も調査できる"
   ]
  },
  {
   "cell_type": "markdown",
   "metadata": {
    "slideshow": {
     "slide_type": "slide"
    }
   },
   "source": [
    "# 余談"
   ]
  },
  {
   "cell_type": "markdown",
   "metadata": {
    "slideshow": {
     "slide_type": "subslide"
    }
   },
   "source": [
    "pythonは試したが型付けが任意のため実装者依存で出力にムラがある"
   ]
  },
  {
   "cell_type": "markdown",
   "metadata": {
    "slideshow": {
     "slide_type": "slide"
    }
   },
   "source": [
    "# 今後"
   ]
  },
  {
   "cell_type": "markdown",
   "metadata": {
    "slideshow": {
     "slide_type": "subslide"
    }
   },
   "source": [
    "swiftやtypescript等で同様のことができるとコスパいい\n",
    "\n",
    "型付けが強制され、リフレクションの機能が備わっている言語であれば、同様の機能を作成できる可能性が高い"
   ]
  },
  {
   "cell_type": "markdown",
   "metadata": {
    "slideshow": {
     "slide_type": "slide"
    }
   },
   "source": [
    "# おわりに\n",
    "\n",
    "おしまい"
   ]
  }
 ],
 "metadata": {
  "celltoolbar": "Slideshow",
  "kernelspec": {
   "display_name": "Python 3",
   "language": "python",
   "name": "python3"
  },
  "language_info": {
   "codemirror_mode": {
    "name": "ipython",
    "version": 3
   },
   "file_extension": ".py",
   "mimetype": "text/x-python",
   "name": "python",
   "nbconvert_exporter": "python",
   "pygments_lexer": "ipython3",
   "version": "3.8.2"
  },
  "toc": {
   "base_numbering": 1,
   "nav_menu": {},
   "number_sections": true,
   "sideBar": true,
   "skip_h1_title": false,
   "title_cell": "Table of Contents",
   "title_sidebar": "Contents",
   "toc_cell": false,
   "toc_position": {
    "height": "calc(100% - 180px)",
    "left": "10px",
    "top": "150px",
    "width": "487px"
   },
   "toc_section_display": true,
   "toc_window_display": true
  }
 },
 "nbformat": 4,
 "nbformat_minor": 4
}
