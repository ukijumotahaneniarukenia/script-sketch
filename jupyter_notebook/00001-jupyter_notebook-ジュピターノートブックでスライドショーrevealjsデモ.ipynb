{
 "cells": [
  {
   "cell_type": "markdown",
   "metadata": {
    "slideshow": {
     "slide_type": "slide"
    }
   },
   "source": [
    "# 外部ライブラリの調査のためのツール"
   ]
  },
  {
   "cell_type": "markdown",
   "metadata": {
    "slideshow": {
     "slide_type": "slide"
    }
   },
   "source": [
    "# はじめに"
   ]
  },
  {
   "cell_type": "markdown",
   "metadata": {
    "slideshow": {
     "slide_type": "subslide"
    }
   },
   "source": [
    "世の中へ言語を問わず次から次へと外部ライブラリが出てきて調査が大変\n",
    "\n",
    "使い方を覚えてもすぐ忘れてしまう\n",
    "\n",
    "どうせ使うなら便利に使いたい"
   ]
  },
  {
   "cell_type": "markdown",
   "metadata": {
    "slideshow": {
     "slide_type": "slide"
    }
   },
   "source": [
    "# 背景"
   ]
  },
  {
   "cell_type": "markdown",
   "metadata": {
    "slideshow": {
     "slide_type": "subslide"
    }
   },
   "source": [
    "IDEの補完でそれっぽいものを選択してコーディングしている時期があった\n",
    "\n",
    "外部ライブラリの全貌を把握できていなかったからそうせざるを得なかった\n",
    "\n",
    "外部ライブラリの機能を一覧取得するやり方が知りたかった\n",
    "\n",
    "いろいろ書いているうちに把握するやり方がわかってきた\n",
    "\n",
    "初めて触れた言語がjavalangだったので、実装した"
   ]
  },
  {
   "cell_type": "markdown",
   "metadata": {
    "slideshow": {
     "slide_type": "slide"
    }
   },
   "source": [
    "# 実装方針"
   ]
  },
  {
   "cell_type": "markdown",
   "metadata": {
    "slideshow": {
     "slide_type": "subslide"
    }
   },
   "source": [
    "リフレクションの機能がある言語ではメタ定義を参照できる定数ないしメソッドを提供している\n",
    "\n",
    "この機能を利用して実装した\n",
    "\n",
    "入出力の設計はコマンドラインベースで動くプログラムとした\n",
    "\n",
    "コマンドライン引数にはクラス名やjarファイル名を指定し、定数情報ないしメソッド情報のどちらの情報を一覧取得するかどうかのオプションを指定できるようにした\n",
    "\n",
    "パイプでつないだり、リダイレクトでファイル保存したり、データファイルとして他のミドルと連携しやすいように標準出力にはTSV形式で出力するようにした"
   ]
  },
  {
   "cell_type": "markdown",
   "metadata": {
    "slideshow": {
     "slide_type": "slide"
    }
   },
   "source": [
    "# プログラム名"
   ]
  },
  {
   "cell_type": "markdown",
   "metadata": {
    "slideshow": {
     "slide_type": "subslide"
    }
   },
   "source": [
    "jacdumpとjardumpを個人で作成した\n",
    "\n",
    "- [jacdump](https://github.com/ukijumotahaneniarukenia/jacdump)\n",
    "\n",
    "\n",
    "- [jardump](https://github.com/ukijumotahaneniarukenia/jardump)"
   ]
  },
  {
   "cell_type": "markdown",
   "metadata": {
    "slideshow": {
     "slide_type": "slide"
    }
   },
   "source": [
    "# 使い方"
   ]
  },
  {
   "cell_type": "markdown",
   "metadata": {
    "slideshow": {
     "slide_type": "subslide"
    }
   },
   "source": [
    "## jacdump"
   ]
  },
  {
   "cell_type": "markdown",
   "metadata": {
    "slideshow": {
     "slide_type": "subslide"
    }
   },
   "source": [
    "CMD\n",
    "\n",
    "```\n",
    "$ java -jar jacdump-2-0-0-SNAPSHOT-jar-with-dependencies.jar \n",
    "```\n",
    "\n",
    "OUT\n",
    "```\n",
    "Usageだよーん\n",
    "\n",
    "java -jar jacdump-2-0-0-SNAPSHOT-jar-with-dependencies.jar --method\n",
    "\n",
    "java -jar jacdump-2-0-0-SNAPSHOT-jar-with-dependencies.jar --list-up\n",
    "\n",
    "java -jar jacdump-2-0-0-SNAPSHOT-jar-with-dependencies.jar --method java.lang.ClassLoader java.lang.Thread\n",
    "\n",
    "java -jar jacdump-2-0-0-SNAPSHOT-jar-with-dependencies.jar --constant\n",
    "\n",
    "java -jar jacdump-2-0-0-SNAPSHOT-jar-with-dependencies.jar --constant java.lang.ClassLoader java.lang.Thread\n",
    "```"
   ]
  },
  {
   "cell_type": "markdown",
   "metadata": {
    "slideshow": {
     "slide_type": "subslide"
    }
   },
   "source": [
    "CMD\n",
    "\n",
    "インストールしたjdkに梱包されているクラスファイル名リストの一覧取得\n",
    "\n",
    "```\n",
    "$ java -jar jacdump-2-0-0-SNAPSHOT-jar-with-dependencies.jar --list-up | head | tr '/' '.'\n",
    "```\n",
    "\n",
    "OUT\n",
    "\n",
    "```\n",
    "java.io.BufferedInputStream\n",
    "java.io.BufferedOutputStream\n",
    "java.io.BufferedWriter\n",
    "java.io.ByteArrayInputStream\n",
    "java.io.ByteArrayOutputStream\n",
    "java.io.Closeable\n",
    "java.io.DataInput\n",
    "java.io.DataInputStream\n",
    "java.io.DataOutput\n",
    "java.io.DefaultFileSystem\n",
    "```"
   ]
  },
  {
   "cell_type": "markdown",
   "metadata": {
    "slideshow": {
     "slide_type": "subslide"
    }
   },
   "source": [
    "CMD\n",
    "\n",
    "標準エラー出力にクラスロード時ないし実行時の完了件数・スキップ件数を出力\n",
    "\n",
    "```\n",
    "$ java -jar jacdump-2-0-0-SNAPSHOT-jar-with-dependencies.jar --constant java.lang.Thread 1>/dev/null\n",
    "```\n",
    "\n",
    "OUT\n",
    "\n",
    "```\n",
    "classLoadDoneCnt\t1\n",
    "classLoadSkipCnt\t0\n",
    "classExecuteDoneCnt\t1\n",
    "classExecuteSkipCnt\t0\n",
    "\n",
    "classExecuteSkipList\t[]\n",
    "```"
   ]
  },
  {
   "cell_type": "markdown",
   "metadata": {
    "slideshow": {
     "slide_type": "subslide"
    }
   },
   "source": [
    "CMD\n",
    "\n",
    "標準出力にクラス情報を出力\n",
    "\n",
    "```\n",
    "$ java -jar jacdump-2-0-0-SNAPSHOT-jar-with-dependencies.jar  --constant java.lang.Thread 2>/dev/null | head\n",
    "```\n",
    "\n",
    "OUT\n",
    "\n",
    "```\n",
    "クラス名\t定数かメソッドか\tクラス番号\tクラスシーケンス番号\tクラス名\t定数名\n",
    "java.lang.Thread\tCCCCC\t00000001\t0001\tjava.lang.Thread\tNORM_PRIORITY\n",
    "java.lang.Thread\tCCCCC\t00000001\t0002\tjava.lang.Thread\tMAX_PRIORITY\n",
    "java.lang.Thread\tCCCCC\t00000001\t0003\tjava.lang.Thread\tMIN_PRIORITY\n",
    "```"
   ]
  },
  {
   "cell_type": "markdown",
   "metadata": {
    "slideshow": {
     "slide_type": "subslide"
    }
   },
   "source": [
    "CMD\n",
    "\n",
    "```\n",
    "$ java -jar jacdump-2-0-0-SNAPSHOT-jar-with-dependencies.jar --method java.lang.Thread 1>/dev/null\n",
    "```\n",
    "\n",
    "OUT\n",
    "\n",
    "```\n",
    "classLoadDoneCnt\t1\n",
    "classLoadSkipCnt\t0\n",
    "classExecuteDoneCnt\t1\n",
    "classExecuteSkipCnt\t0\n",
    "\n",
    "classExecuteSkipList\t[]\n",
    "```"
   ]
  },
  {
   "cell_type": "markdown",
   "metadata": {
    "slideshow": {
     "slide_type": "subslide"
    }
   },
   "source": [
    "CMD\n",
    "\n",
    "```\n",
    "$ java -jar jacdump-2-0-0-SNAPSHOT-jar-with-dependencies.jar  --method java.lang.Thread 2>/dev/null | head\n",
    "```\n",
    "\n",
    "OUT\n",
    "\n",
    "```\n",
    "クラス名\t定数かメソッドか\tクラス番号\tクラスシーケンス番号\tクラス名\tアクセス修飾子\t戻り値の型\tメソッド名\t可変長引数があるか\t引数の個数\t型パラメータリスト\t型パラメータ記号リスト\t引数の型リスト\t仮引数の変数名リスト\n",
    "java.lang.Thread\tMMMMM\t00000001\t0001\tjava.lang.Thread\tpublic final\tboolean\tisDaemon\tfalse\t0\t\t\t\t\n",
    "java.lang.Thread\tMMMMM\t00000001\t0002\tjava.lang.Thread\tpublic\tjava.lang.StackTraceElement[]\tgetStackTrace\tfalse\t0\t\t\t\t\n",
    "java.lang.Thread\tMMMMM\t00000001\t0003\tjava.lang.Thread\tpublic final\tvoid\tjoin\tfalse\t0\t\t\t\t\n",
    "java.lang.Thread\tMMMMM\t00000001\t0004\tjava.lang.Thread\tpublic final synchronized\tvoid\tjoin\tfalse\t2\t\t\tlong,int\targ0,arg1\n",
    "java.lang.Thread\tMMMMM\t00000001\t0005\tjava.lang.Thread\tpublic final synchronized\tvoid\tjoin\tfalse\t1\t\t\tlong\targ0\n",
    "java.lang.Thread\tMMMMM\t00000001\t0006\tjava.lang.Thread\tpublic\tboolean\tequals\tfalse\t1\t\t\tjava.lang.Object\targ0\n",
    "java.lang.Thread\tMMMMM\t00000001\t0007\tjava.lang.Thread\tpublic\tvoid\tinterrupt\tfalse\t0\t\t\t\t\n",
    "java.lang.Thread\tMMMMM\t00000001\t0008\tjava.lang.Thread\tpublic final\tjava.lang.String\tgetName\tfalse\t0\t\t\t\t\n",
    "java.lang.Thread\tMMMMM\t00000001\t0009\tjava.lang.Thread\tpublic\tvoid\tsetContextClassLoader\tfalse\t1\t\t\tjava.lang.ClassLoader\targ0\n",
    "```"
   ]
  },
  {
   "cell_type": "markdown",
   "metadata": {
    "slideshow": {
     "slide_type": "subslide"
    }
   },
   "source": [
    "## jardump"
   ]
  },
  {
   "cell_type": "markdown",
   "metadata": {
    "slideshow": {
     "slide_type": "subslide"
    }
   },
   "source": [
    "CMD\n",
    "\n",
    "```\n",
    "java -jar jardump-X-X-X-SNAPSHOT.jar\n",
    "```\n",
    "\n",
    "OUT\n",
    "```\n",
    "Usageだよーん\n",
    "java -jar jardump-X-X-X-SNAPSHOT.jar --maven\n",
    "or\n",
    "java -jar jardump-X-X-X-SNAPSHOT.jar --gradle\n",
    "or\n",
    "java -jar jardump-X-X-X-SNAPSHOT.jar --kotlin\n",
    "or\n",
    "java -jar jardump-X-X-X-SNAPSHOT.jar --scala\n",
    "or\n",
    "java -jar jardump-X-X-X-SNAPSHOT.jar --scala --method\n",
    "or\n",
    "java -jar jardump-X-X-X-SNAPSHOT.jar --scala --constant\n",
    "or\n",
    "java -jar jardump-X-X-X-SNAPSHOT.jar /home/aine/.m2/repository/org/jsoup/jsoup/1.10.2/jsoup-1.10.2.jar /home/aine/.m2/repository/org/apache/commons/commons-lang3/3.11/commons-lang3-3.11.jar\n",
    "or\n",
    "java -jar jardump-X-X-X-SNAPSHOT.jar /home/aine/.m2/repository/xmlpull/xmlpull/1.1.3.1/xmlpull-1.1.3.1.jar\n",
    "```"
   ]
  },
  {
   "cell_type": "markdown",
   "metadata": {
    "slideshow": {
     "slide_type": "subslide"
    }
   },
   "source": [
    "jacdumpと代替同じなので、割愛"
   ]
  },
  {
   "cell_type": "markdown",
   "metadata": {
    "slideshow": {
     "slide_type": "slide"
    }
   },
   "source": [
    "# ミドルと連携例\n",
    "\n",
    "jupyter notebookを例に"
   ]
  },
  {
   "cell_type": "markdown",
   "metadata": {
    "slideshow": {
     "slide_type": "slide"
    }
   },
   "source": [
    "## ライブラリインポート"
   ]
  },
  {
   "cell_type": "code",
   "execution_count": 1,
   "metadata": {
    "slideshow": {
     "slide_type": "subslide"
    }
   },
   "outputs": [],
   "source": [
    "import pandas as pd"
   ]
  },
  {
   "cell_type": "markdown",
   "metadata": {
    "slideshow": {
     "slide_type": "slide"
    }
   },
   "source": [
    "## 定数の場合"
   ]
  },
  {
   "cell_type": "markdown",
   "metadata": {
    "slideshow": {
     "slide_type": "slide"
    }
   },
   "source": [
    "### TSVファイルインポート"
   ]
  },
  {
   "cell_type": "code",
   "execution_count": 2,
   "metadata": {
    "slideshow": {
     "slide_type": "subslide"
    }
   },
   "outputs": [
    {
     "ename": "FileNotFoundError",
     "evalue": "[Errno 2] No such file or directory: 'java-lang-Thread-constant.tsv'",
     "output_type": "error",
     "traceback": [
      "\u001b[0;31m---------------------------------------------------------------------------\u001b[0m",
      "\u001b[0;31mFileNotFoundError\u001b[0m                         Traceback (most recent call last)",
      "\u001b[0;32m<ipython-input-2-6202033bb623>\u001b[0m in \u001b[0;36m<module>\u001b[0;34m\u001b[0m\n\u001b[0;32m----> 1\u001b[0;31m \u001b[0mdf_constant\u001b[0m \u001b[0;34m=\u001b[0m \u001b[0mpd\u001b[0m\u001b[0;34m.\u001b[0m\u001b[0mread_csv\u001b[0m\u001b[0;34m(\u001b[0m\u001b[0;34m'java-lang-Thread-constant.tsv'\u001b[0m\u001b[0;34m,\u001b[0m\u001b[0msep\u001b[0m\u001b[0;34m=\u001b[0m\u001b[0;34m'\\t'\u001b[0m\u001b[0;34m)\u001b[0m\u001b[0;34m\u001b[0m\u001b[0;34m\u001b[0m\u001b[0m\n\u001b[0m",
      "\u001b[0;32m~/.local/lib/python3.8/site-packages/pandas/io/parsers.py\u001b[0m in \u001b[0;36mread_csv\u001b[0;34m(filepath_or_buffer, sep, delimiter, header, names, index_col, usecols, squeeze, prefix, mangle_dupe_cols, dtype, engine, converters, true_values, false_values, skipinitialspace, skiprows, skipfooter, nrows, na_values, keep_default_na, na_filter, verbose, skip_blank_lines, parse_dates, infer_datetime_format, keep_date_col, date_parser, dayfirst, cache_dates, iterator, chunksize, compression, thousands, decimal, lineterminator, quotechar, quoting, doublequote, escapechar, comment, encoding, dialect, error_bad_lines, warn_bad_lines, delim_whitespace, low_memory, memory_map, float_precision)\u001b[0m\n\u001b[1;32m    684\u001b[0m     )\n\u001b[1;32m    685\u001b[0m \u001b[0;34m\u001b[0m\u001b[0m\n\u001b[0;32m--> 686\u001b[0;31m     \u001b[0;32mreturn\u001b[0m \u001b[0m_read\u001b[0m\u001b[0;34m(\u001b[0m\u001b[0mfilepath_or_buffer\u001b[0m\u001b[0;34m,\u001b[0m \u001b[0mkwds\u001b[0m\u001b[0;34m)\u001b[0m\u001b[0;34m\u001b[0m\u001b[0;34m\u001b[0m\u001b[0m\n\u001b[0m\u001b[1;32m    687\u001b[0m \u001b[0;34m\u001b[0m\u001b[0m\n\u001b[1;32m    688\u001b[0m \u001b[0;34m\u001b[0m\u001b[0m\n",
      "\u001b[0;32m~/.local/lib/python3.8/site-packages/pandas/io/parsers.py\u001b[0m in \u001b[0;36m_read\u001b[0;34m(filepath_or_buffer, kwds)\u001b[0m\n\u001b[1;32m    450\u001b[0m \u001b[0;34m\u001b[0m\u001b[0m\n\u001b[1;32m    451\u001b[0m     \u001b[0;31m# Create the parser.\u001b[0m\u001b[0;34m\u001b[0m\u001b[0;34m\u001b[0m\u001b[0;34m\u001b[0m\u001b[0m\n\u001b[0;32m--> 452\u001b[0;31m     \u001b[0mparser\u001b[0m \u001b[0;34m=\u001b[0m \u001b[0mTextFileReader\u001b[0m\u001b[0;34m(\u001b[0m\u001b[0mfp_or_buf\u001b[0m\u001b[0;34m,\u001b[0m \u001b[0;34m**\u001b[0m\u001b[0mkwds\u001b[0m\u001b[0;34m)\u001b[0m\u001b[0;34m\u001b[0m\u001b[0;34m\u001b[0m\u001b[0m\n\u001b[0m\u001b[1;32m    453\u001b[0m \u001b[0;34m\u001b[0m\u001b[0m\n\u001b[1;32m    454\u001b[0m     \u001b[0;32mif\u001b[0m \u001b[0mchunksize\u001b[0m \u001b[0;32mor\u001b[0m \u001b[0miterator\u001b[0m\u001b[0;34m:\u001b[0m\u001b[0;34m\u001b[0m\u001b[0;34m\u001b[0m\u001b[0m\n",
      "\u001b[0;32m~/.local/lib/python3.8/site-packages/pandas/io/parsers.py\u001b[0m in \u001b[0;36m__init__\u001b[0;34m(self, f, engine, **kwds)\u001b[0m\n\u001b[1;32m    934\u001b[0m             \u001b[0mself\u001b[0m\u001b[0;34m.\u001b[0m\u001b[0moptions\u001b[0m\u001b[0;34m[\u001b[0m\u001b[0;34m\"has_index_names\"\u001b[0m\u001b[0;34m]\u001b[0m \u001b[0;34m=\u001b[0m \u001b[0mkwds\u001b[0m\u001b[0;34m[\u001b[0m\u001b[0;34m\"has_index_names\"\u001b[0m\u001b[0;34m]\u001b[0m\u001b[0;34m\u001b[0m\u001b[0;34m\u001b[0m\u001b[0m\n\u001b[1;32m    935\u001b[0m \u001b[0;34m\u001b[0m\u001b[0m\n\u001b[0;32m--> 936\u001b[0;31m         \u001b[0mself\u001b[0m\u001b[0;34m.\u001b[0m\u001b[0m_make_engine\u001b[0m\u001b[0;34m(\u001b[0m\u001b[0mself\u001b[0m\u001b[0;34m.\u001b[0m\u001b[0mengine\u001b[0m\u001b[0;34m)\u001b[0m\u001b[0;34m\u001b[0m\u001b[0;34m\u001b[0m\u001b[0m\n\u001b[0m\u001b[1;32m    937\u001b[0m \u001b[0;34m\u001b[0m\u001b[0m\n\u001b[1;32m    938\u001b[0m     \u001b[0;32mdef\u001b[0m \u001b[0mclose\u001b[0m\u001b[0;34m(\u001b[0m\u001b[0mself\u001b[0m\u001b[0;34m)\u001b[0m\u001b[0;34m:\u001b[0m\u001b[0;34m\u001b[0m\u001b[0;34m\u001b[0m\u001b[0m\n",
      "\u001b[0;32m~/.local/lib/python3.8/site-packages/pandas/io/parsers.py\u001b[0m in \u001b[0;36m_make_engine\u001b[0;34m(self, engine)\u001b[0m\n\u001b[1;32m   1166\u001b[0m     \u001b[0;32mdef\u001b[0m \u001b[0m_make_engine\u001b[0m\u001b[0;34m(\u001b[0m\u001b[0mself\u001b[0m\u001b[0;34m,\u001b[0m \u001b[0mengine\u001b[0m\u001b[0;34m=\u001b[0m\u001b[0;34m\"c\"\u001b[0m\u001b[0;34m)\u001b[0m\u001b[0;34m:\u001b[0m\u001b[0;34m\u001b[0m\u001b[0;34m\u001b[0m\u001b[0m\n\u001b[1;32m   1167\u001b[0m         \u001b[0;32mif\u001b[0m \u001b[0mengine\u001b[0m \u001b[0;34m==\u001b[0m \u001b[0;34m\"c\"\u001b[0m\u001b[0;34m:\u001b[0m\u001b[0;34m\u001b[0m\u001b[0;34m\u001b[0m\u001b[0m\n\u001b[0;32m-> 1168\u001b[0;31m             \u001b[0mself\u001b[0m\u001b[0;34m.\u001b[0m\u001b[0m_engine\u001b[0m \u001b[0;34m=\u001b[0m \u001b[0mCParserWrapper\u001b[0m\u001b[0;34m(\u001b[0m\u001b[0mself\u001b[0m\u001b[0;34m.\u001b[0m\u001b[0mf\u001b[0m\u001b[0;34m,\u001b[0m \u001b[0;34m**\u001b[0m\u001b[0mself\u001b[0m\u001b[0;34m.\u001b[0m\u001b[0moptions\u001b[0m\u001b[0;34m)\u001b[0m\u001b[0;34m\u001b[0m\u001b[0;34m\u001b[0m\u001b[0m\n\u001b[0m\u001b[1;32m   1169\u001b[0m         \u001b[0;32melse\u001b[0m\u001b[0;34m:\u001b[0m\u001b[0;34m\u001b[0m\u001b[0;34m\u001b[0m\u001b[0m\n\u001b[1;32m   1170\u001b[0m             \u001b[0;32mif\u001b[0m \u001b[0mengine\u001b[0m \u001b[0;34m==\u001b[0m \u001b[0;34m\"python\"\u001b[0m\u001b[0;34m:\u001b[0m\u001b[0;34m\u001b[0m\u001b[0;34m\u001b[0m\u001b[0m\n",
      "\u001b[0;32m~/.local/lib/python3.8/site-packages/pandas/io/parsers.py\u001b[0m in \u001b[0;36m__init__\u001b[0;34m(self, src, **kwds)\u001b[0m\n\u001b[1;32m   1996\u001b[0m         \u001b[0mkwds\u001b[0m\u001b[0;34m[\u001b[0m\u001b[0;34m\"usecols\"\u001b[0m\u001b[0;34m]\u001b[0m \u001b[0;34m=\u001b[0m \u001b[0mself\u001b[0m\u001b[0;34m.\u001b[0m\u001b[0musecols\u001b[0m\u001b[0;34m\u001b[0m\u001b[0;34m\u001b[0m\u001b[0m\n\u001b[1;32m   1997\u001b[0m \u001b[0;34m\u001b[0m\u001b[0m\n\u001b[0;32m-> 1998\u001b[0;31m         \u001b[0mself\u001b[0m\u001b[0;34m.\u001b[0m\u001b[0m_reader\u001b[0m \u001b[0;34m=\u001b[0m \u001b[0mparsers\u001b[0m\u001b[0;34m.\u001b[0m\u001b[0mTextReader\u001b[0m\u001b[0;34m(\u001b[0m\u001b[0msrc\u001b[0m\u001b[0;34m,\u001b[0m \u001b[0;34m**\u001b[0m\u001b[0mkwds\u001b[0m\u001b[0;34m)\u001b[0m\u001b[0;34m\u001b[0m\u001b[0;34m\u001b[0m\u001b[0m\n\u001b[0m\u001b[1;32m   1999\u001b[0m         \u001b[0mself\u001b[0m\u001b[0;34m.\u001b[0m\u001b[0munnamed_cols\u001b[0m \u001b[0;34m=\u001b[0m \u001b[0mself\u001b[0m\u001b[0;34m.\u001b[0m\u001b[0m_reader\u001b[0m\u001b[0;34m.\u001b[0m\u001b[0munnamed_cols\u001b[0m\u001b[0;34m\u001b[0m\u001b[0;34m\u001b[0m\u001b[0m\n\u001b[1;32m   2000\u001b[0m \u001b[0;34m\u001b[0m\u001b[0m\n",
      "\u001b[0;32mpandas/_libs/parsers.pyx\u001b[0m in \u001b[0;36mpandas._libs.parsers.TextReader.__cinit__\u001b[0;34m()\u001b[0m\n",
      "\u001b[0;32mpandas/_libs/parsers.pyx\u001b[0m in \u001b[0;36mpandas._libs.parsers.TextReader._setup_parser_source\u001b[0;34m()\u001b[0m\n",
      "\u001b[0;31mFileNotFoundError\u001b[0m: [Errno 2] No such file or directory: 'java-lang-Thread-constant.tsv'"
     ]
    }
   ],
   "source": [
    "df_constant = pd.read_csv('java-lang-Thread-constant.tsv',sep='\\t')"
   ]
  },
  {
   "cell_type": "markdown",
   "metadata": {
    "slideshow": {
     "slide_type": "slide"
    }
   },
   "source": [
    "### データ俯瞰"
   ]
  },
  {
   "cell_type": "code",
   "execution_count": null,
   "metadata": {
    "slideshow": {
     "slide_type": "subslide"
    }
   },
   "outputs": [],
   "source": [
    "df_constant.head(10)"
   ]
  },
  {
   "cell_type": "markdown",
   "metadata": {
    "slideshow": {
     "slide_type": "slide"
    }
   },
   "source": [
    "### データ型確認"
   ]
  },
  {
   "cell_type": "code",
   "execution_count": null,
   "metadata": {
    "slideshow": {
     "slide_type": "subslide"
    }
   },
   "outputs": [],
   "source": [
    "pd.DataFrame(df_constant.dtypes,columns=[\"columnName\"])"
   ]
  },
  {
   "cell_type": "markdown",
   "metadata": {
    "slideshow": {
     "slide_type": "slide"
    }
   },
   "source": [
    "### 抽出条件を指定して取得"
   ]
  },
  {
   "cell_type": "markdown",
   "metadata": {
    "slideshow": {
     "slide_type": "slide"
    }
   },
   "source": [
    "#### 取得列リストを指定して取得"
   ]
  },
  {
   "cell_type": "code",
   "execution_count": null,
   "metadata": {
    "slideshow": {
     "slide_type": "subslide"
    }
   },
   "outputs": [],
   "source": [
    "df_constant[['クラス名','定数名']]"
   ]
  },
  {
   "cell_type": "markdown",
   "metadata": {
    "slideshow": {
     "slide_type": "slide"
    }
   },
   "source": [
    "#### 定数名が先頭Mで始まる一覧を取得"
   ]
  },
  {
   "cell_type": "code",
   "execution_count": null,
   "metadata": {
    "scrolled": true,
    "slideshow": {
     "slide_type": "subslide"
    }
   },
   "outputs": [],
   "source": [
    "df_constant[df_constant['定数名'].str.contains('^M', regex=True)]"
   ]
  },
  {
   "cell_type": "markdown",
   "metadata": {
    "slideshow": {
     "slide_type": "slide"
    }
   },
   "source": [
    "#### 定数名が先頭Mで始まらない一覧を取得"
   ]
  },
  {
   "cell_type": "code",
   "execution_count": null,
   "metadata": {
    "slideshow": {
     "slide_type": "subslide"
    }
   },
   "outputs": [],
   "source": [
    "df_constant[ ~ df_constant['定数名'].str.contains('^M', regex=True)]"
   ]
  },
  {
   "cell_type": "markdown",
   "metadata": {
    "slideshow": {
     "slide_type": "slide"
    }
   },
   "source": [
    "## メソッドの場合"
   ]
  },
  {
   "cell_type": "markdown",
   "metadata": {
    "slideshow": {
     "slide_type": "slide"
    }
   },
   "source": [
    "### TSVファイルインポート"
   ]
  },
  {
   "cell_type": "code",
   "execution_count": null,
   "metadata": {
    "slideshow": {
     "slide_type": "subslide"
    }
   },
   "outputs": [],
   "source": [
    "df_method = pd.read_csv('java-lang-Thread-method.tsv',sep='\\t')"
   ]
  },
  {
   "cell_type": "markdown",
   "metadata": {
    "slideshow": {
     "slide_type": "slide"
    }
   },
   "source": [
    "### データ俯瞰"
   ]
  },
  {
   "cell_type": "code",
   "execution_count": null,
   "metadata": {
    "slideshow": {
     "slide_type": "subslide"
    }
   },
   "outputs": [],
   "source": [
    "df_method.head(10)"
   ]
  },
  {
   "cell_type": "markdown",
   "metadata": {
    "slideshow": {
     "slide_type": "slide"
    }
   },
   "source": [
    "### データ型確認"
   ]
  },
  {
   "cell_type": "code",
   "execution_count": null,
   "metadata": {
    "scrolled": true,
    "slideshow": {
     "slide_type": "subslide"
    }
   },
   "outputs": [],
   "source": [
    "pd.DataFrame(df_method.dtypes,columns=[\"columnName\"])"
   ]
  },
  {
   "cell_type": "markdown",
   "metadata": {
    "slideshow": {
     "slide_type": "slide"
    }
   },
   "source": [
    "### 抽出条件を指定して取得"
   ]
  },
  {
   "cell_type": "markdown",
   "metadata": {
    "slideshow": {
     "slide_type": "slide"
    }
   },
   "source": [
    "#### 取得列リストを指定して取得"
   ]
  },
  {
   "cell_type": "code",
   "execution_count": null,
   "metadata": {
    "scrolled": true,
    "slideshow": {
     "slide_type": "subslide"
    }
   },
   "outputs": [],
   "source": [
    "df_method[['クラス名','メソッド名','戻り値の型','引数の個数','引数の型リスト']].head(10)"
   ]
  },
  {
   "cell_type": "markdown",
   "metadata": {
    "slideshow": {
     "slide_type": "slide"
    }
   },
   "source": [
    "#### 引数の個数が0個かつ戻り値の型がjava.lang.Stringの一覧を取得"
   ]
  },
  {
   "cell_type": "code",
   "execution_count": null,
   "metadata": {
    "slideshow": {
     "slide_type": "subslide"
    }
   },
   "outputs": [],
   "source": [
    "df_method[(df_method['引数の個数']==0) & (df_method['戻り値の型']=='java.lang.String')]"
   ]
  },
  {
   "cell_type": "markdown",
   "metadata": {
    "slideshow": {
     "slide_type": "slide"
    }
   },
   "source": [
    "# 応用"
   ]
  },
  {
   "cell_type": "markdown",
   "metadata": {
    "slideshow": {
     "slide_type": "subslide"
    }
   },
   "source": [
    "androidなどのネイティブアプリはapkファイルで配布されているがjarファイルに変換できるコマンドがある\n",
    "\n",
    "- [dex2jar](https://github.com/pxb1988/dex2jar)\n",
    "\n",
    "jarファイルになれば、アプリが使用しているライブラリ等も調査できる"
   ]
  },
  {
   "cell_type": "markdown",
   "metadata": {
    "slideshow": {
     "slide_type": "slide"
    }
   },
   "source": [
    "# 余談"
   ]
  },
  {
   "cell_type": "markdown",
   "metadata": {
    "slideshow": {
     "slide_type": "subslide"
    }
   },
   "source": [
    "pythonは試したが型付けが任意のため実装者依存で出力にムラがある"
   ]
  },
  {
   "cell_type": "markdown",
   "metadata": {
    "slideshow": {
     "slide_type": "slide"
    }
   },
   "source": [
    "# 今後"
   ]
  },
  {
   "cell_type": "markdown",
   "metadata": {
    "slideshow": {
     "slide_type": "subslide"
    }
   },
   "source": [
    "swiftやtypescript等で同様のことができるとコスパいい\n",
    "\n",
    "型付けが強制され、リフレクションの機能が備わっている言語であれば、同様の機能を作成できる可能性が高い"
   ]
  },
  {
   "cell_type": "markdown",
   "metadata": {
    "slideshow": {
     "slide_type": "slide"
    }
   },
   "source": [
    "# おわりに\n",
    "\n",
    "おしまい"
   ]
  }
 ],
 "metadata": {
  "celltoolbar": "Slideshow",
  "kernelspec": {
   "display_name": "Python 3",
   "language": "python",
   "name": "python3"
  },
  "language_info": {
   "codemirror_mode": {
    "name": "ipython",
    "version": 3
   },
   "file_extension": ".py",
   "mimetype": "text/x-python",
   "name": "python",
   "nbconvert_exporter": "python",
   "pygments_lexer": "ipython3",
   "version": "3.8.2"
  },
  "toc": {
   "base_numbering": 1,
   "nav_menu": {},
   "number_sections": true,
   "sideBar": true,
   "skip_h1_title": false,
   "title_cell": "Table of Contents",
   "title_sidebar": "Contents",
   "toc_cell": false,
   "toc_position": {
    "height": "calc(100% - 180px)",
    "left": "10px",
    "top": "150px",
    "width": "487px"
   },
   "toc_section_display": true,
   "toc_window_display": true
  }
 },
 "nbformat": 4,
 "nbformat_minor": 4
}
